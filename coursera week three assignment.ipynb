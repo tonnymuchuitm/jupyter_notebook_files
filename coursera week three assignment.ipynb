{
 "cells": [
  {
   "cell_type": "markdown",
   "metadata": {},
   "source": [
    "## Biulding a custom visualization"
   ]
  },
  {
   "cell_type": "code",
   "execution_count": 4,
   "metadata": {},
   "outputs": [
    {
     "data": {
      "text/html": [
       "<div>\n",
       "<style scoped>\n",
       "    .dataframe tbody tr th:only-of-type {\n",
       "        vertical-align: middle;\n",
       "    }\n",
       "\n",
       "    .dataframe tbody tr th {\n",
       "        vertical-align: top;\n",
       "    }\n",
       "\n",
       "    .dataframe thead th {\n",
       "        text-align: right;\n",
       "    }\n",
       "</style>\n",
       "<table border=\"1\" class=\"dataframe\">\n",
       "  <thead>\n",
       "    <tr style=\"text-align: right;\">\n",
       "      <th></th>\n",
       "      <th>1992</th>\n",
       "      <th>1993</th>\n",
       "      <th>1994</th>\n",
       "      <th>1995</th>\n",
       "    </tr>\n",
       "  </thead>\n",
       "  <tbody>\n",
       "    <tr>\n",
       "      <th>0</th>\n",
       "      <td>-8941.531897</td>\n",
       "      <td>-51896.094813</td>\n",
       "      <td>152336.932066</td>\n",
       "      <td>-69708.439062</td>\n",
       "    </tr>\n",
       "    <tr>\n",
       "      <th>1</th>\n",
       "      <td>127788.667612</td>\n",
       "      <td>198350.518755</td>\n",
       "      <td>192947.128056</td>\n",
       "      <td>-13289.977022</td>\n",
       "    </tr>\n",
       "    <tr>\n",
       "      <th>2</th>\n",
       "      <td>-71887.743011</td>\n",
       "      <td>-123518.252821</td>\n",
       "      <td>389950.263156</td>\n",
       "      <td>-30178.390991</td>\n",
       "    </tr>\n",
       "    <tr>\n",
       "      <th>3</th>\n",
       "      <td>-79146.060869</td>\n",
       "      <td>-129916.759685</td>\n",
       "      <td>-93006.152024</td>\n",
       "      <td>55052.181256</td>\n",
       "    </tr>\n",
       "    <tr>\n",
       "      <th>4</th>\n",
       "      <td>425156.114501</td>\n",
       "      <td>216119.147314</td>\n",
       "      <td>100818.575896</td>\n",
       "      <td>152883.621657</td>\n",
       "    </tr>\n",
       "    <tr>\n",
       "      <th>...</th>\n",
       "      <td>...</td>\n",
       "      <td>...</td>\n",
       "      <td>...</td>\n",
       "      <td>...</td>\n",
       "    </tr>\n",
       "    <tr>\n",
       "      <th>3645</th>\n",
       "      <td>24185.008589</td>\n",
       "      <td>-37333.493572</td>\n",
       "      <td>-71861.846997</td>\n",
       "      <td>39937.199964</td>\n",
       "    </tr>\n",
       "    <tr>\n",
       "      <th>3646</th>\n",
       "      <td>-56826.729535</td>\n",
       "      <td>103019.841174</td>\n",
       "      <td>26375.113219</td>\n",
       "      <td>139472.114293</td>\n",
       "    </tr>\n",
       "    <tr>\n",
       "      <th>3647</th>\n",
       "      <td>-67319.766489</td>\n",
       "      <td>179746.127403</td>\n",
       "      <td>-29328.078384</td>\n",
       "      <td>59386.186379</td>\n",
       "    </tr>\n",
       "    <tr>\n",
       "      <th>3648</th>\n",
       "      <td>113377.299342</td>\n",
       "      <td>13455.493990</td>\n",
       "      <td>65858.761714</td>\n",
       "      <td>73362.229590</td>\n",
       "    </tr>\n",
       "    <tr>\n",
       "      <th>3649</th>\n",
       "      <td>-4494.878538</td>\n",
       "      <td>34442.898855</td>\n",
       "      <td>-91542.001049</td>\n",
       "      <td>28705.082908</td>\n",
       "    </tr>\n",
       "  </tbody>\n",
       "</table>\n",
       "<p>3650 rows × 4 columns</p>\n",
       "</div>"
      ],
      "text/plain": [
       "               1992           1993           1994           1995\n",
       "0      -8941.531897  -51896.094813  152336.932066  -69708.439062\n",
       "1     127788.667612  198350.518755  192947.128056  -13289.977022\n",
       "2     -71887.743011 -123518.252821  389950.263156  -30178.390991\n",
       "3     -79146.060869 -129916.759685  -93006.152024   55052.181256\n",
       "4     425156.114501  216119.147314  100818.575896  152883.621657\n",
       "...             ...            ...            ...            ...\n",
       "3645   24185.008589  -37333.493572  -71861.846997   39937.199964\n",
       "3646  -56826.729535  103019.841174   26375.113219  139472.114293\n",
       "3647  -67319.766489  179746.127403  -29328.078384   59386.186379\n",
       "3648  113377.299342   13455.493990   65858.761714   73362.229590\n",
       "3649   -4494.878538   34442.898855  -91542.001049   28705.082908\n",
       "\n",
       "[3650 rows x 4 columns]"
      ]
     },
     "execution_count": 4,
     "metadata": {},
     "output_type": "execute_result"
    }
   ],
   "source": [
    "%matplotlib inline\n",
    "# Use the following data for this assignment:\n",
    "\n",
    "import pandas as pd\n",
    "import numpy as np\n",
    "import matplotlib.pyplot as plt\n",
    "import seaborn as sns\n",
    "from ipywidgets import interactive\n",
    "sns.set()\n",
    "\n",
    "np.random.seed(12345)\n",
    "\n",
    "df = pd.DataFrame([np.random.normal(32000,200000,3650), \n",
    "                   np.random.normal(43000,100000,3650), \n",
    "                   np.random.normal(43500,140000,3650), \n",
    "                   np.random.normal(48000,70000,3650)], \n",
    "                  index=[1992,1993,1994,1995])\n",
    "df = df.T #i transposed my dataframe so that i can use my years as column, that makes it easier for me\n",
    "df"
   ]
  },
  {
   "cell_type": "code",
   "execution_count": 5,
   "metadata": {},
   "outputs": [
    {
     "data": {
      "text/plain": [
       "[6508.006279032519, 3191.8169886217424, 4553.27842212373, 2263.541606389295]"
      ]
     },
     "execution_count": 5,
     "metadata": {},
     "output_type": "execute_result"
    }
   ],
   "source": [
    "means = [df[1992].mean(), df[1993].mean(), df[1994].mean(), df[1995].mean()]#we create a list of all our means by year starting from 1992 to 1995\n",
    "std_one = np.std(df[1992])#standard deviation of 1992 data\n",
    "std_two = np.std(df[1993])#standard deviation of 1993 data\n",
    "std_three = np.std(df[1994])#standard deviation of 1994 data\n",
    "std_four = np.std(df[1995])#standard deviation of 1995 data\n",
    "root = np.sqrt\n",
    "std = np.std\n",
    "#we need to calculate our mean standard deviation which is calculated as\n",
    "#standard deviation of the mean = standard deviation of the data \\squareroot of the sample size\n",
    "#we are treating our data as a sample, so we need to get the margin of error\n",
    "\n",
    "#the margin of error is calculated as the standard error multiplied by the tabulated value of the confidence interval which in a normal distribution is 1.96\n",
    "error = [std_one/(3650**(0.5)),std_two/(3650**(.5)), std_three/(3650**(0.5)), std_four/(3650**(0.5))]\n",
    "errors = [error[0]*1.96,error[1]*1.96,error[2]*1.96,error[3]*1.96]\n",
    "errors"
   ]
  },
  {
   "cell_type": "markdown",
   "metadata": {},
   "source": [
    "\n",
    "$$\n",
    "standard error = \\frac{standard deviation(data)}{ √(sample size(n))}\n",
    "$$\n",
    "\n",
    "$$\n",
    "Error = {standard error } ✖ { confidence interval}\n",
    "$$"
   ]
  },
  {
   "cell_type": "code",
   "execution_count": 11,
   "metadata": {},
   "outputs": [
    {
     "name": "stdout",
     "output_type": "stream",
     "text": [
      "Enter a value to compare with: 40000\n"
     ]
    },
    {
     "data": {
      "image/png": "[encoded data removed]",
      "text/plain": [
       "<Figure size 576x576 with 1 Axes>"
      ]
     },
     "metadata": {},
     "output_type": "display_data"
    },
    {
     "data": {
      "text/plain": [
       "<Figure size 432x288 with 0 Axes>"
      ]
     },
     "metadata": {},
     "output_type": "display_data"
    }
   ],
   "source": [
    "plt.figure(figsize=(8,8))\n",
    "mean_data= [33312.10747554433, 41861.85954107339, 39493.3049413989, 47743.55096926713]\n",
    "y=float(input('Enter a value to compare with: '))\n",
    "ranges = [y-mean_data[0], y-mean_data[1], y-mean_data[2], y-mean_data[3]]\n",
    "colour = ['white' if x==0 else 'darkred' if -9001<x<-4000 else 'lightblue' if 1 < x <3000 else 'red' if -4000<x<-1 else 'Darkblue' for x in ranges]\n",
    "xvals=range(len(mean_data))\n",
    "plt.bar(xvals,mean_data, align=\"center\", width=0.99,color=colour)\n",
    "plt.xticks([0.0,1.0,2.0,3.0],[1992,1993,1994,1995])\n",
    "plt.yticks([-6000,0,6000,12000,18000,24000,30000,36000,42000,48000,54000])\n",
    "plt.ylim(-6000,55000)\n",
    "plt.xlim(-1,4)\n",
    "plt.axhline(0, color='black')\n",
    "plt.axvline(-0.5,color='black', ls='-')\n",
    "plt.axhline(y, color='grey', ls='--', label=f'comparing to a fixed value {y}')\n",
    "plt.legend()\n",
    "\n",
    "plt.errorbar(xvals,mean_data,yerr=errors, fmt='none', ecolor='black', elinewidth=2, alpha=1, capsize=15, capthick=2)\n",
    "#plt.colorbar(mapable = 'none', cmap='plasma')\n",
    "plt.show()\n",
    "plt.savefig('stintractive.png', bbox_inches='tight', pad_inches=2)"
   ]
  },
  {
   "cell_type": "code",
   "execution_count": null,
   "metadata": {},
   "outputs": [],
   "source": []
  }
 ],
 "metadata": {
  "kernelspec": {
   "display_name": "Python 3",
   "language": "python",
   "name": "python3"
  },
  "language_info": {
   "codemirror_mode": {
    "name": "ipython",
    "version": 3
   },
   "file_extension": ".py",
   "mimetype": "text/x-python",
   "name": "python",
   "nbconvert_exporter": "python",
   "pygments_lexer": "ipython3",
   "version": "3.8.5"
  }
 },
 "nbformat": 4,
 "nbformat_minor": 4
}
