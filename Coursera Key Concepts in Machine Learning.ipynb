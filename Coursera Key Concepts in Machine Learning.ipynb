{
 "cells": [
  {
   "cell_type": "markdown",
   "metadata": {},
   "source": [
    "## Key types of machine learning problems\n",
    "\n",
    "\n",
    "- machine larning can be categorized into two main types\n",
    "    1. Supervised Machine Learning\n",
    "    2. Unsupervised Machine Learning\n",
    "\n",
    "### Supervised machine learning\n",
    "- It is defined by its use of labelled data sets to train algorithms to clasify data or predict outcomes accurately\n",
    "    1. Classification - target values are discrete\n",
    "    2. Regresion - target values are continuous\n",
    "    \n",
    "    \n",
    "### Unsupervised Machine learning\n",
    "- this is a machine learning technique in which the user does not need to supervise the model\n",
    "- it is used to find structure in unlabelled data\n",
    "    1. clustering - Finds group of similar instances\n",
    "    2. outlier detection - finding unusual patterns"
   ]
  },
  {
   "cell_type": "markdown",
   "metadata": {},
   "source": [
    "## A basic machine learning workflow\n",
    "- contains three steps, step 1, step 2, step 3.\n",
    "    1. Representation \n",
    "        - choose a feature representation\n",
    "        - choose a type of classifier to use\n",
    "            - eg, image pixels with k-nearest neighbor classifier\n",
    "    2. Evaluation\n",
    "        - choose what criterion distinguishes good vs bad classifiers.\n",
    "            - eg, %correct predictions on test set \n",
    "    3. Optimization\n",
    "        - choose how to search for the settings/parameters that give the best classifier for this evaluation criterion\n",
    "            - eg, try a range of values for 'k' parameter in k-nearest neighbor classifier"
   ]
  },
  {
   "cell_type": "code",
   "execution_count": null,
   "metadata": {},
   "outputs": [],
   "source": [
    " "
   ]
  }
 ],
 "metadata": {
  "kernelspec": {
   "display_name": "Python 3",
   "language": "python",
   "name": "python3"
  },
  "language_info": {
   "codemirror_mode": {
    "name": "ipython",
    "version": 3
   },
   "file_extension": ".py",
   "mimetype": "text/x-python",
   "name": "python",
   "nbconvert_exporter": "python",
   "pygments_lexer": "ipython3",
   "version": "3.8.5"
  }
 },
 "nbformat": 4,
 "nbformat_minor": 4
}
