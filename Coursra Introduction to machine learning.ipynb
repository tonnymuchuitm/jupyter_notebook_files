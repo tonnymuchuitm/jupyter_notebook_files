{
 "cells": [
  {
   "cell_type": "code",
   "execution_count": 8,
   "metadata": {},
   "outputs": [],
   "source": [
    "!jt -t chesterish"
   ]
  },
  {
   "cell_type": "markdown",
   "metadata": {},
   "source": [
    "# Introduction to machine learning\n",
    "\n",
    "## introduction\n",
    "- What is machine learning(ML)?\n",
    "  - This is the study of computer programs(algorithms) that can larn by example\n",
    "  - machine learning algorithms can generalize from existing examples of a task\n",
    "       - eg, after seeing a training set of labelled images, an image classifier can figure out how to          apply labels accurately to new, previously unseen images\n",
    "  - Algorithms lear rules from labelled examples\n",
    "  - A set of labelled examples used for larning is called training data\n",
    "  - The learned rules should be able to generalize to correctly recognize or predict new examples not       in training set\n",
    "  \n",
    "  \n",
    "- Statistics, computer science and more in machine learning\n",
    "    - Statistical methods\n",
    "       - give machine learing alorithms ways in which to Infer conclusions from data\n",
    "       - also used to estimate reliability of predictions\n",
    "    - Computer science\n",
    "       - Large scale computing architctures\n",
    "       - Algorithms for capturing, manipulating, indexing, combining, retrieving and performing  predictions on data\n",
    "        - software pipelines that manage the complexity of multiple subtasks\n",
    "    - Economics, Biology, Psychology\n",
    "        - How can an individual or system efficiently improve their performance in a given environment\n",
    "        - What is learning and how can it be optimized\n",
    "        "
   ]
  },
  {
   "cell_type": "markdown",
   "metadata": {},
   "source": [
    "# What is applied machine learning\n",
    "- At the end of this course you will be able to;\n",
    "    - Understand basic machine learning concepts and  workflow\n",
    "    - How to properly apply 'black-box' machine learning components and features\n",
    "    - Learn how to apply machine learning algorithms in python using scikitlearn package\n",
    "    \n",
    "- Recomended text for this course\n",
    "    - Introduction to machine learning in python \n",
    "        - By Andreas C. Muller and Sarah Guido"
   ]
  }
 ],
 "metadata": {
  "kernelspec": {
   "display_name": "Python 3",
   "language": "python",
   "name": "python3"
  },
  "language_info": {
   "codemirror_mode": {
    "name": "ipython",
    "version": 3
   },
   "file_extension": ".py",
   "mimetype": "text/x-python",
   "name": "python",
   "nbconvert_exporter": "python",
   "pygments_lexer": "ipython3",
   "version": "3.8.5"
  }
 },
 "nbformat": 4,
 "nbformat_minor": 4
}
