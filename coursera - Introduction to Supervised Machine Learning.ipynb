{
 "cells": [
  {
   "cell_type": "markdown",
   "metadata": {},
   "source": [
    "- In the previous module, you saw a basic sample of supervised machine learning using a k-nearest neighbor classifier, classifying different types of fruit based on their various physical properties.\n",
    "\n",
    "- Machine learning algorithms of this type are called supervised learning algorithms because they use labeled examples in the training set to learn how to predict the labels for new, previously unseen examples. The supervised aspect refers to the need for each training example to have a label in order for the algorithm to learn how to make accurate predictions on future examples.\n",
    "- in this module we will learn how machine learning algorithms learn by estimating parameters from data to make new predictions\n",
    "- understand the strengths and weaknesses of  particular supervised learning methods.\n",
    "- learn how to apply specific supervised machine learning algorithms in python with scikit-learn\n",
    "- learn about general principles of supervised machine learning, like overfitting, underfitting and how to avoid them.\n",
    "- **Review of important terms**\n",
    "1. ***Feature representation*** - this is taking an object such as a fruit and converting it into numbers that the computer can undertand\n",
    "    - example in our fruit dataset we converted a fruit into features such as width, mass, height and color score so that the machine can understand\n",
    "2. ***Data instance/ samples/ examples(x)*** - each row of our dataset corresponds to one piece of fruit or one specific data instance per sample\n",
    "3. ***a label/ target value(y)*** -  in classification, the targe value is a label of an object and in  regression its the particular continous value we would like to predict from the inputs\n",
    "4. ***Training and test sets*** we split our data set into two parts the training set and the test set. The default split in python is 75% - 25% trining set to test set respectively\n",
    "5. ***Model/Estimator*** - once we fit our data sets we then get a trained model. Training is the process of estimating model parameters.\n",
    "6. ***Evaluation method***  - after we fit the model we want to see how the model works to predict unseen data, we will then evaluate our model using the test split and get the accuracy score of our trained model\n",
    "\n"
   ]
  },
  {
   "cell_type": "markdown",
   "metadata": {},
   "source": [
    "## Classification and Regression"
   ]
  },
  {
   "cell_type": "markdown",
   "metadata": {},
   "source": [
    "- both classification and regression take a set of training instances and learn a mapping to a target value.\n",
    "- for classification, the target is a discrete value\n",
    "    - ie, the arget value is either a 1 or a 0\n",
    "    \n",
    "- for regression, the target value is continous(floating point/real-valued)\n",
    "    - eg predicting the selling price of a house from its attributes\n",
    "- looking at the target values type will guide you on what supervised model to use.\n",
    "- many supervised machine learning models have flavors for both classification an regression\n"
   ]
  },
  {
   "cell_type": "markdown",
   "metadata": {},
   "source": [
    "## supervised learning methods: overview"
   ]
  },
  {
   "cell_type": "markdown",
   "metadata": {},
   "source": [
    "- To start with, we'll look at two simple but powerful prediction algorithms\n",
    "    1. K-nearest neighbors plus regression\n",
    "    2. linear model fit using method of least squares\n",
    "    \n",
    "- These represents two complementary approaches to supervised learning:\n",
    "    - K-nearest neighbors makes few assumptions about the structure of the data and gives potentially accurate but sometimes unstable predictions(sensitive to small changes in the training data).\n",
    "    - Linear models make strong assumptions about the structure of the data and give stable but potentially inaccurate predictions"
   ]
  }
 ],
 "metadata": {
  "kernelspec": {
   "display_name": "Python 3",
   "language": "python",
   "name": "python3"
  },
  "language_info": {
   "codemirror_mode": {
    "name": "ipython",
    "version": 3
   },
   "file_extension": ".py",
   "mimetype": "text/x-python",
   "name": "python",
   "nbconvert_exporter": "python",
   "pygments_lexer": "ipython3",
   "version": "3.8.5"
  }
 },
 "nbformat": 4,
 "nbformat_minor": 4
}
