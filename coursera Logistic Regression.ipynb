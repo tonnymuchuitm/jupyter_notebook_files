{
 "cells": [
  {
   "cell_type": "markdown",
   "metadata": {},
   "source": [
    "- in spite of being called a regression measure, is actually used for classification and is called logistic regression\n",
    "- can be seen as a kind of generalized linear model\n",
    "- just like ordinary least squares and other regression models, logistic regression takes a set of input variables, the features and estimates a target value.\n",
    "- However, unlike ordinary linear regression, in its most basic form logistic represions target value is a binary variable instead of a continous value. \n",
    "- The effect of applying the logistic function is to compress the output of the linear function so that it's limited to a range between 0 and 1. "
   ]
  }
 ],
 "metadata": {
  "kernelspec": {
   "display_name": "Python 3",
   "language": "python",
   "name": "python3"
  },
  "language_info": {
   "codemirror_mode": {
    "name": "ipython",
    "version": 3
   },
   "file_extension": ".py",
   "mimetype": "text/x-python",
   "name": "python",
   "nbconvert_exporter": "python",
   "pygments_lexer": "ipython3",
   "version": "3.8.5"
  }
 },
 "nbformat": 4,
 "nbformat_minor": 4
}
