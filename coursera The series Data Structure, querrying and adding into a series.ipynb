{
 "cells": [
  {
   "cell_type": "code",
   "execution_count": 1,
   "metadata": {},
   "outputs": [],
   "source": [
    "import pandas as pd"
   ]
  },
  {
   "cell_type": "code",
   "execution_count": 3,
   "metadata": {},
   "outputs": [
    {
     "data": {
      "text/plain": [
       "0    alice\n",
       "1      max\n",
       "2    brian\n",
       "dtype: object"
      ]
     },
     "execution_count": 3,
     "metadata": {},
     "output_type": "execute_result"
    }
   ],
   "source": [
    "#lets create a series of student names\n",
    "students = ['alice','max','brian']\n",
    "#we just call in the series function in pandas and pass in the students\n",
    "pd.Series(students)"
   ]
  },
  {
   "cell_type": "code",
   "execution_count": 4,
   "metadata": {},
   "outputs": [
    {
     "data": {
      "text/plain": [
       "0    1\n",
       "1    2\n",
       "2    3\n",
       "3    4\n",
       "dtype: int64"
      ]
     },
     "execution_count": 4,
     "metadata": {},
     "output_type": "execute_result"
    }
   ],
   "source": [
    "#lets create a list of numbers\n",
    "numbers = [1,2,3,4]\n",
    "pd.Series(numbers)"
   ]
  },
  {
   "cell_type": "code",
   "execution_count": null,
   "metadata": {},
   "outputs": [],
   "source": [
    "#we can see automatically pandas calls the type of the series as either objects or int64 as shown above"
   ]
  },
  {
   "cell_type": "code",
   "execution_count": null,
   "metadata": {},
   "outputs": [],
   "source": []
  },
  {
   "cell_type": "markdown",
   "metadata": {},
   "source": [
    "## Querrying a series"
   ]
  },
  {
   "cell_type": "code",
   "execution_count": 19,
   "metadata": {},
   "outputs": [
    {
     "data": {
      "text/plain": [
       "alice      physics\n",
       "jack     chemistry\n",
       "molly      english\n",
       "sam        history\n",
       "dtype: object"
      ]
     },
     "execution_count": 19,
     "metadata": {},
     "output_type": "execute_result"
    }
   ],
   "source": [
    "#a pandas series can be querried either by index position or the index label.\n",
    "#if you do not give up an index to the series when querying, the position and the label are effectively the same thing\n",
    "#to query by numeric loctation, starting at zero, ue the iloc attribute.\n",
    "#to query by index label, use the loc attribute\n",
    "\n",
    "import pandas as pd\n",
    "student_classes = {'alice': 'physics',\n",
    "                  'jack': 'chemistry',\n",
    "                  'molly': 'english',\n",
    "                  'sam': 'history'}\n",
    "ss = pd.Series(student_classes)\n",
    "ss"
   ]
  },
  {
   "cell_type": "code",
   "execution_count": 20,
   "metadata": {},
   "outputs": [
    {
     "data": {
      "text/plain": [
       "'history'"
      ]
     },
     "execution_count": 20,
     "metadata": {},
     "output_type": "execute_result"
    }
   ],
   "source": [
    "#in this series if we wanted to see the fourth item we would use the iloc attribute with the parameter 3\n",
    "#rem python indexing starts at zero\n",
    "ss.iloc[3]"
   ]
  },
  {
   "cell_type": "code",
   "execution_count": 21,
   "metadata": {},
   "outputs": [
    {
     "data": {
      "text/plain": [
       "'english'"
      ]
     },
     "execution_count": 21,
     "metadata": {},
     "output_type": "execute_result"
    }
   ],
   "source": [
    "#if we want to see the class molly is we would use the loc attribute\n",
    "ss.loc['molly']"
   ]
  },
  {
   "cell_type": "code",
   "execution_count": 22,
   "metadata": {},
   "outputs": [
    {
     "data": {
      "text/plain": [
       "'history'"
      ]
     },
     "execution_count": 22,
     "metadata": {},
     "output_type": "execute_result"
    }
   ],
   "source": [
    "#its importan to note that iloc and loc are not methods but attributes. that explains why we have to use square brackets on them and not parenthesis\n",
    "\n",
    "#pandas also tries to make our code more readable and provides a sort of smart syntax using the indexing operator directly on the series itself.\n",
    "#for instance if you pass in an integer parameter the operator will behave as if you want to query using the iloc attribute\n",
    "ss[3]\n"
   ]
  },
  {
   "cell_type": "code",
   "execution_count": 23,
   "metadata": {},
   "outputs": [
    {
     "data": {
      "text/plain": [
       "'english'"
      ]
     },
     "execution_count": 23,
     "metadata": {},
     "output_type": "execute_result"
    }
   ],
   "source": [
    "#and if you pass in the object it will query as if you wanted to use the iloc attribute\n",
    "ss['molly']"
   ]
  },
  {
   "cell_type": "code",
   "execution_count": 28,
   "metadata": {},
   "outputs": [
    {
     "data": {
      "text/plain": [
       "99       physics\n",
       "100    chemistry\n",
       "101      english\n",
       "102      history\n",
       "dtype: object"
      ]
     },
     "execution_count": 28,
     "metadata": {},
     "output_type": "execute_result"
    }
   ],
   "source": [
    "#so what happens if your index i a list of integer? its a bit complicated and pandas cannot determine automatically\n",
    "#whether you are intending to query by index position or index label. so you need to be careful when using the indexing operator on the series itself\n",
    "#the safer option is to be more exolicit and use the iloc or loc attributes directly\n",
    "\n",
    "class_codes = {'99': 'physics',\n",
    "              '100': 'chemistry',\n",
    "              '101': 'english',\n",
    "              '102': 'history'}\n",
    "s = pd.Series(class_codes)\n",
    "s"
   ]
  },
  {
   "cell_type": "code",
   "execution_count": 29,
   "metadata": {},
   "outputs": [
    {
     "data": {
      "text/plain": [
       "'physics'"
      ]
     },
     "execution_count": 29,
     "metadata": {},
     "output_type": "execute_result"
    }
   ],
   "source": [
    "#if we try to call s[0] we get a keyerror because there is no item in the class list with an index of zero.\n",
    "s[0]"
   ]
  },
  {
   "cell_type": "code",
   "execution_count": 30,
   "metadata": {},
   "outputs": [
    {
     "data": {
      "text/plain": [
       "'physics'"
      ]
     },
     "execution_count": 30,
     "metadata": {},
     "output_type": "execute_result"
    }
   ],
   "source": [
    "#i guess its part of the update i did not get a keyerror as the tutor said\n",
    "#lemme just try out the iloc attribute\n",
    "s.iloc[0]"
   ]
  },
  {
   "cell_type": "code",
   "execution_count": 32,
   "metadata": {},
   "outputs": [
    {
     "data": {
      "text/plain": [
       "'physics'"
      ]
     },
     "execution_count": 32,
     "metadata": {},
     "output_type": "execute_result"
    }
   ],
   "source": [
    "s.loc['99']"
   ]
  },
  {
   "cell_type": "code",
   "execution_count": 33,
   "metadata": {},
   "outputs": [],
   "source": [
    "#am now certified it is part of the update"
   ]
  },
  {
   "cell_type": "code",
   "execution_count": 34,
   "metadata": {},
   "outputs": [],
   "source": [
    "#now we know how to get data from a series, lets talk about working with the data.\n",
    "#a common task is to want to consider all the values inside of a series and do some sort of operation\n",
    "#this could be trying to find a certain number or summarizing the data or transforming the data in some way\n"
   ]
  },
  {
   "cell_type": "code",
   "execution_count": 35,
   "metadata": {},
   "outputs": [
    {
     "data": {
      "text/plain": [
       "75.0"
      ]
     },
     "execution_count": 35,
     "metadata": {},
     "output_type": "execute_result"
    }
   ],
   "source": [
    "#a typical programatic approach to this would be to iterate over all the items in the series and invoke the operation one is interested in\n",
    "#for instance we could create a series of integers representing students grades and just try and get an average grade\n",
    "\n",
    "grades = pd.Series([90,80,70,60])\n",
    "\n",
    "total = 0 \n",
    "for grade in grades:\n",
    "    total = total + grade\n",
    "    mean = total/len(grades)\n",
    "mean"
   ]
  },
  {
   "cell_type": "code",
   "execution_count": null,
   "metadata": {},
   "outputs": [],
   "source": [
    "#this works but is really slow. modern computers can do any tasks simultaneously especially but not only tasks involving mathematics\n",
    "#pandas and the underlying numpy libraries support a method of computation called vectorization.\n",
    "#vectorization works with most of the functions in the numpy library. including the sum function\n"
   ]
  },
  {
   "cell_type": "code",
   "execution_count": 36,
   "metadata": {},
   "outputs": [
    {
     "name": "stdout",
     "output_type": "stream",
     "text": [
      "75.0\n"
     ]
    }
   ],
   "source": [
    "#heres how we would really write the code using the numpy sum method. \n",
    "#first we import numpy module\n",
    "import numpy as np\n",
    "\n",
    "#then we call np.um and pass in an iterable item. in this case our pandas series.\n",
    "\n",
    "total = np.sum(grades)\n",
    "print(total/len(grades))"
   ]
  },
  {
   "cell_type": "markdown",
   "metadata": {},
   "source": [
    "## adding into a series"
   ]
  },
  {
   "cell_type": "code",
   "execution_count": 38,
   "metadata": {},
   "outputs": [
    {
     "data": {
      "text/plain": [
       "0      1\n",
       "1      2\n",
       "2      2\n",
       "3      3\n",
       "4      4\n",
       "new    7\n",
       "dtype: int64"
      ]
     },
     "execution_count": 38,
     "metadata": {},
     "output_type": "execute_result"
    }
   ],
   "source": [
    "#we can also add into a series by using the loc attribute\n",
    "x = pd.Series([1,2,2,3,4])\n",
    "\n",
    "#we could add some new value \n",
    "\n",
    "x.loc['new'] = 7\n",
    "\n",
    "x\n"
   ]
  },
  {
   "cell_type": "code",
   "execution_count": 40,
   "metadata": {},
   "outputs": [
    {
     "data": {
      "text/plain": [
       "alice      english\n",
       "ken        physics\n",
       "jack         maths\n",
       "owen     chemistry\n",
       "dtype: object"
      ]
     },
     "execution_count": 40,
     "metadata": {},
     "output_type": "execute_result"
    }
   ],
   "source": [
    "#lets create a series with students and the courses they have taken.\n",
    "student_classes = pd.Series({'alice': 'english',\n",
    "                            'ken': 'physics',\n",
    "                            'jack': 'maths',\n",
    "                            'owen': 'chemistry'})\n",
    "student_classes"
   ]
  },
  {
   "cell_type": "code",
   "execution_count": 47,
   "metadata": {},
   "outputs": [
    {
     "data": {
      "text/plain": [
       "kelly    philosophy\n",
       "kelly         maths\n",
       "kelly          arts\n",
       "dtype: object"
      ]
     },
     "execution_count": 47,
     "metadata": {},
     "output_type": "execute_result"
    }
   ],
   "source": [
    "#now lets create a series jut for some new student kelly which lists all the courses she is taking\n",
    "#we will set the index to kelly and the data to be names of course\n",
    "\n",
    "kelly_classes = pd.Series(['philosophy','maths', 'arts'], index = ['kelly', 'kelly', 'kelly'])\n",
    "kelly_classes"
   ]
  },
  {
   "cell_type": "code",
   "execution_count": 48,
   "metadata": {},
   "outputs": [
    {
     "data": {
      "text/plain": [
       "alice       english\n",
       "ken         physics\n",
       "jack          maths\n",
       "owen      chemistry\n",
       "kelly    philosophy\n",
       "kelly         maths\n",
       "kelly          arts\n",
       "dtype: object"
      ]
     },
     "execution_count": 48,
     "metadata": {},
     "output_type": "execute_result"
    }
   ],
   "source": [
    "#finally we can append kelly classes to the student classes by using the append function\n",
    "\n",
    "all_student_classes = student_classes.append(kelly_classes)\n",
    "\n",
    "all_student_classes"
   ]
  },
  {
   "cell_type": "code",
   "execution_count": 49,
   "metadata": {},
   "outputs": [
    {
     "data": {
      "text/plain": [
       "alice      english\n",
       "ken        physics\n",
       "jack         maths\n",
       "owen     chemistry\n",
       "dtype: object"
      ]
     },
     "execution_count": 49,
     "metadata": {},
     "output_type": "execute_result"
    }
   ],
   "source": [
    "#the append method does not actually change the underlying series objects, it instead returns a new series which is made up of the two appended together\n",
    "#this is a common pattern in pandas by default returning a new object instead of modifying the one in place.\n",
    "#by printing the original series we see that it has not changed\n",
    "student_classes"
   ]
  },
  {
   "cell_type": "code",
   "execution_count": 50,
   "metadata": {},
   "outputs": [
    {
     "data": {
      "text/plain": [
       "kelly    philosophy\n",
       "kelly         maths\n",
       "kelly          arts\n",
       "dtype: object"
      ]
     },
     "execution_count": 50,
     "metadata": {},
     "output_type": "execute_result"
    }
   ],
   "source": [
    "#finally we see that when we querry the appended series for kelly, we do not get a single value but a series itself\n",
    "all_student_classes.loc['kelly']"
   ]
  },
  {
   "cell_type": "code",
   "execution_count": 3,
   "metadata": {},
   "outputs": [],
   "source": [
    "import pandas as pd"
   ]
  },
  {
   "cell_type": "code",
   "execution_count": null,
   "metadata": {},
   "outputs": [],
   "source": [
    "15364344302990.0,6348608932836.1,5542207638235.176,3493025339072.8477,2681724635761.589,\n",
    "         10  2487906661418.4175,2189794143774.905,2120175089933.7761,1769297396603.86,1660647466307.512,\n",
    "    ---> 11  1565459478480.661,1418078278145.694,1164042729991.427,1106714508244.852,444155754051.095"
   ]
  },
  {
   "cell_type": "code",
   "execution_count": 7,
   "metadata": {},
   "outputs": [
    {
     "data": {
      "text/plain": [
       "United States         1.536434e+13\n",
       "China                 6.348609e+12\n",
       "Japan                 5.542208e+12\n",
       "Germany               3.493025e+12\n",
       "France                2.681725e+12\n",
       "United Kingdom        2.487907e+12\n",
       "Brazil                2.189794e+12\n",
       "Italy                 2.120175e+12\n",
       "India                 1.769297e+12\n",
       "Canada                1.660647e+12\n",
       "Russian Federation    1.565459e+12\n",
       "Spain                 1.418078e+12\n",
       "Australia             1.164043e+12\n",
       "South Korea           1.106715e+12\n",
       "Iran                  4.441558e+11\n",
       "dtype: float64"
      ]
     },
     "execution_count": 7,
     "metadata": {},
     "output_type": "execute_result"
    }
   ],
   "source": [
    "countries = {'United States':        15364344302990.0,\n",
    "'China':                 6348608932836.1,\n",
    "'Japan':                 5542207638235.176,\n",
    "'Germany':               3493025339072.8477,\n",
    "'France':                2681724635761.589,\n",
    "'United Kingdom':        2487906661418.4175,\n",
    "'Brazil':                2189794143774.905,\n",
    "'Italy':                 2120175089933.7761,\n",
    "'India':                 1769297396603.86,\n",
    "'Canada':                1660647466307.512,\n",
    "'Russian Federation':    1565459478480.661,\n",
    "'Spain':                 1418078278145.694,\n",
    "'Australia':             1164042729991.427,\n",
    "'South Korea':           1106714508244.852,\n",
    "'Iran':                  444155754051.095}\n",
    "s = pd.Series(countries)\n",
    "s"
   ]
  },
  {
   "cell_type": "code",
   "execution_count": null,
   "metadata": {},
   "outputs": [],
   "source": []
  },
  {
   "cell_type": "code",
   "execution_count": null,
   "metadata": {},
   "outputs": [],
   "source": []
  }
 ],
 "metadata": {
  "kernelspec": {
   "display_name": "Python 3",
   "language": "python",
   "name": "python3"
  },
  "language_info": {
   "codemirror_mode": {
    "name": "ipython",
    "version": 3
   },
   "file_extension": ".py",
   "mimetype": "text/x-python",
   "name": "python",
   "nbconvert_exporter": "python",
   "pygments_lexer": "ipython3",
   "version": "3.7.6"
  }
 },
 "nbformat": 4,
 "nbformat_minor": 4
}
