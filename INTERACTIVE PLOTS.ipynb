{
 "cells": [
  {
   "cell_type": "code",
   "execution_count": 1,
   "metadata": {},
   "outputs": [
    {
     "data": {
      "image/png": "[encoded data removed]",
      "text/plain": [
       "<Figure size 1080x288 with 2 Axes>"
      ]
     },
     "metadata": {
      "needs_background": "light"
     },
     "output_type": "display_data"
    }
   ],
   "source": [
    "import matplotlib.pyplot as plt\n",
    "from matplotlib.cm import ScalarMappable\n",
    "\n",
    "data_x = [0,1,2,3]\n",
    "data_hight = [60,60,80,100]\n",
    "data_color = [1000.,500.,1000.,900.]\n",
    "\n",
    "\n",
    "data_color = [x / max(data_color) for x in data_color]\n",
    "fig, ax = plt.subplots(figsize=(15, 4))\n",
    "\n",
    "my_cmap = plt.cm.get_cmap('GnBu')\n",
    "colors = my_cmap(data_color)\n",
    "rects = ax.bar(data_x, data_hight, color=colors)\n",
    "\n",
    "sm = ScalarMappable(cmap=my_cmap, norm=plt.Normalize(0,max(data_color)))\n",
    "sm.set_array([])\n",
    "\n",
    "cbar = plt.colorbar(sm)\n",
    "cbar.set_label('Color', rotation=270,labelpad=25)\n",
    "\n",
    "plt.xticks(data_x)    \n",
    "plt.ylabel(\"Y\")\n",
    "\n",
    "plt.show()"
   ]
  },
  {
   "cell_type": "code",
   "execution_count": 16,
   "metadata": {},
   "outputs": [
    {
     "name": "stdout",
     "output_type": "stream",
     "text": [
      "Enter your y line value: 4\n"
     ]
    },
    {
     "data": {
      "image/png": "[encoded data removed]",
      "text/plain": [
       "<Figure size 432x288 with 1 Axes>"
      ]
     },
     "metadata": {
      "needs_background": "light"
     },
     "output_type": "display_data"
    }
   ],
   "source": [
    "import numpy as np\n",
    "\n",
    "values = np.array([4.7,3.3,2.84,1.95,1])\n",
    "y=float(input('Enter your y line value: '))\n",
    "shade=[y-values[0],y-values[1],y-values[2],y-values[3],y-values[4]]\n",
    "from matplotlib import cm\n",
    "import matplotlib.pyplot as plt\n",
    "greens = cm.Greens\n",
    "purples = cm.Purples\n",
    "yellows = cm.Reds\n",
    "#magentas = cm.Magentas\n",
    "#use shade of green if diff is negative,\n",
    "#use shades of purple if diff is positive\n",
    "colour= ['white' if x==0 else greens(abs(x))\n",
    "       if x<0 else purples(abs(x)) for x in shade]\n",
    "\n",
    "plt.bar(range(1,len(values)+1), values,\n",
    "       edgecolor='lightblue',\n",
    "       color=colour)\n",
    "plt.axhline(y=y)\n",
    "#plt.colorbar()\n",
    "plt.show()"
   ]
  },
  {
   "cell_type": "code",
   "execution_count": 20,
   "metadata": {},
   "outputs": [
    {
     "name": "stdout",
     "output_type": "stream",
     "text": [
      "Enter your y line value: 3\n"
     ]
    },
    {
     "data": {
      "image/png": "[encoded data removed]",
      "text/plain": [
       "<Figure size 432x288 with 1 Axes>"
      ]
     },
     "metadata": {
      "needs_background": "light"
     },
     "output_type": "display_data"
    }
   ],
   "source": [
    "import numpy as np\n",
    "\n",
    "values = np.array([4.7,3.3,2.84,1.95,1])\n",
    "y=float(input('Enter your y line value: '))\n",
    "shade=[y-values[0],y-values[1],y-values[2],y-values[3],y-values[4]]\n",
    "from matplotlib import cm\n",
    "import matplotlib.pyplot as plt\n",
    "greens = cm.Greens\n",
    "purples = cm.Purples\n",
    "yellows = cm.Reds\n",
    "#magentas = cm.Magentas\n",
    "#use shade of green if diff is negative,\n",
    "#use shades of purple if diff is positive\n",
    "colour= ['white' if x==0 else \"green\"\n",
    "       if x<0 else 'red' if 1<x<0 else 'lightblue' for x in shade]\n",
    "\n",
    "plt.bar(range(1,len(values)+1), values,\n",
    "       edgecolor='lightblue',\n",
    "       color=colour)\n",
    "plt.axhline(y=y)\n",
    "#plt.colorbar()\n",
    "plt.show()"
   ]
  },
  {
   "cell_type": "code",
   "execution_count": null,
   "metadata": {},
   "outputs": [],
   "source": []
  }
 ],
 "metadata": {
  "kernelspec": {
   "display_name": "Python 3",
   "language": "python",
   "name": "python3"
  },
  "language_info": {
   "codemirror_mode": {
    "name": "ipython",
    "version": 3
   },
   "file_extension": ".py",
   "mimetype": "text/x-python",
   "name": "python",
   "nbconvert_exporter": "python",
   "pygments_lexer": "ipython3",
   "version": "3.8.5"
  }
 },
 "nbformat": 4,
 "nbformat_minor": 4
}
