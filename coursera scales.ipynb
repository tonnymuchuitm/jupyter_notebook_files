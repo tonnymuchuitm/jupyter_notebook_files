{
 "cells": [
  {
   "cell_type": "markdown",
   "metadata": {},
   "source": [
    "## Scales"
   ]
  },
  {
   "cell_type": "raw",
   "metadata": {},
   "source": [
    "there are four different scales that are worth mentioning\n",
    "1.   Ratio scale\n",
    "       - in this scale units are equally spaced\n",
    "       - mathematical operations are all valid such as + - / *\n",
    "       - examples are height and weight\n",
    "       \n",
    "2.   Interval scale\n",
    "       - measurement units are equally spaced\n",
    "       - but there is o a true zero in this category\n",
    "       - examples are temparature and direction\n",
    "3.   Ordinal scale\n",
    "       - the order of the unit is important, but not evenly spaced\n",
    "       -letter grades such as A+, A are a good example\n",
    "4.   Nominal scale\n",
    "       - categories of data, but the categories have no order with respect to            one another.\n",
    "       -examples are teams of a sport"
   ]
  },
  {
   "cell_type": "code",
   "execution_count": 1,
   "metadata": {},
   "outputs": [
    {
     "data": {
      "text/html": [
       "<div>\n",
       "<style scoped>\n",
       "    .dataframe tbody tr th:only-of-type {\n",
       "        vertical-align: middle;\n",
       "    }\n",
       "\n",
       "    .dataframe tbody tr th {\n",
       "        vertical-align: top;\n",
       "    }\n",
       "\n",
       "    .dataframe thead th {\n",
       "        text-align: right;\n",
       "    }\n",
       "</style>\n",
       "<table border=\"1\" class=\"dataframe\">\n",
       "  <thead>\n",
       "    <tr style=\"text-align: right;\">\n",
       "      <th></th>\n",
       "      <th>Grades</th>\n",
       "    </tr>\n",
       "  </thead>\n",
       "  <tbody>\n",
       "    <tr>\n",
       "      <th>excellent</th>\n",
       "      <td>A+</td>\n",
       "    </tr>\n",
       "    <tr>\n",
       "      <th>excellent</th>\n",
       "      <td>A</td>\n",
       "    </tr>\n",
       "    <tr>\n",
       "      <th>excellent</th>\n",
       "      <td>A-</td>\n",
       "    </tr>\n",
       "    <tr>\n",
       "      <th>good</th>\n",
       "      <td>B+</td>\n",
       "    </tr>\n",
       "    <tr>\n",
       "      <th>good</th>\n",
       "      <td>B</td>\n",
       "    </tr>\n",
       "    <tr>\n",
       "      <th>good</th>\n",
       "      <td>B-</td>\n",
       "    </tr>\n",
       "    <tr>\n",
       "      <th>ok</th>\n",
       "      <td>C+</td>\n",
       "    </tr>\n",
       "    <tr>\n",
       "      <th>ok</th>\n",
       "      <td>C</td>\n",
       "    </tr>\n",
       "    <tr>\n",
       "      <th>ok</th>\n",
       "      <td>C-</td>\n",
       "    </tr>\n",
       "    <tr>\n",
       "      <th>poor</th>\n",
       "      <td>D+</td>\n",
       "    </tr>\n",
       "    <tr>\n",
       "      <th>poor</th>\n",
       "      <td>D</td>\n",
       "    </tr>\n",
       "  </tbody>\n",
       "</table>\n",
       "</div>"
      ],
      "text/plain": [
       "          Grades\n",
       "excellent     A+\n",
       "excellent      A\n",
       "excellent     A-\n",
       "good          B+\n",
       "good           B\n",
       "good          B-\n",
       "ok            C+\n",
       "ok             C\n",
       "ok            C-\n",
       "poor          D+\n",
       "poor           D"
      ]
     },
     "execution_count": 1,
     "metadata": {},
     "output_type": "execute_result"
    }
   ],
   "source": [
    "# Let's bring in pandas as normal\n",
    "import pandas as pd\n",
    "\n",
    "# Here’s an example. Lets create a dataframe of letter grades in descending order. We can also set an index\n",
    "# value and here we'll just make it some human judgement of how good a student was, like \"excellent\" or \"good\"\n",
    "\n",
    "df=pd.DataFrame(['A+', 'A', 'A-', 'B+', 'B', 'B-', 'C+', 'C', 'C-', 'D+', 'D'],\n",
    "                index=['excellent', 'excellent', 'excellent', 'good', 'good', 'good', \n",
    "                       'ok', 'ok', 'ok', 'poor', 'poor'],\n",
    "               columns=[\"Grades\"])\n",
    "df"
   ]
  },
  {
   "cell_type": "code",
   "execution_count": 2,
   "metadata": {},
   "outputs": [
    {
     "data": {
      "text/plain": [
       "Grades    object\n",
       "dtype: object"
      ]
     },
     "execution_count": 2,
     "metadata": {},
     "output_type": "execute_result"
    }
   ],
   "source": [
    "#now if we do the datatype of this column we will find that it is just an object, since we set string values \n",
    "\n",
    "df.dtypes"
   ]
  },
  {
   "cell_type": "code",
   "execution_count": 3,
   "metadata": {},
   "outputs": [
    {
     "data": {
      "text/plain": [
       "excellent    A+\n",
       "excellent     A\n",
       "excellent    A-\n",
       "good         B+\n",
       "good          B\n",
       "Name: Grades, dtype: category\n",
       "Categories (11, object): [A, A+, A-, B, ..., C+, C-, D, D+]"
      ]
     },
     "execution_count": 3,
     "metadata": {},
     "output_type": "execute_result"
    }
   ],
   "source": [
    "#we can however tell panda that we want to change the type to categorical uing the astype() fuction\n",
    "df['Grades'].astype('category').head()"
   ]
  },
  {
   "cell_type": "code",
   "execution_count": 4,
   "metadata": {},
   "outputs": [
    {
     "data": {
      "text/plain": [
       "excellent    A+\n",
       "excellent     A\n",
       "excellent    A-\n",
       "good         B+\n",
       "good          B\n",
       "Name: Grades, dtype: category\n",
       "Categories (11, object): [D < D+ < C- < C ... B+ < A- < A < A+]"
      ]
     },
     "execution_count": 4,
     "metadata": {},
     "output_type": "execute_result"
    }
   ],
   "source": [
    "# we see now that there are eleven categories and pandas is aware of what tose categories are. \n",
    "#more interesting though is that our data isnt just categorical, but that it is ordered too. thai is \n",
    "# an A- comes after a B+ and B comes before a B+. we can tell pandas that the data is ordered by first creating a new categorical data type with the list of categories in ordr  and the ordered = True flag\n",
    "\n",
    "my_categories=pd.CategoricalDtype(categories=['D', 'D+', 'C-', 'C', 'C+', 'B-', 'B', 'B+', 'A-', 'A', 'A+'], \n",
    "                           ordered=True)\n",
    "# then we can just pass this to the astype() function\n",
    "grades=df[\"Grades\"].astype(my_categories)\n",
    "grades.head()"
   ]
  },
  {
   "cell_type": "code",
   "execution_count": 5,
   "metadata": {},
   "outputs": [
    {
     "data": {
      "text/html": [
       "<div>\n",
       "<style scoped>\n",
       "    .dataframe tbody tr th:only-of-type {\n",
       "        vertical-align: middle;\n",
       "    }\n",
       "\n",
       "    .dataframe tbody tr th {\n",
       "        vertical-align: top;\n",
       "    }\n",
       "\n",
       "    .dataframe thead th {\n",
       "        text-align: right;\n",
       "    }\n",
       "</style>\n",
       "<table border=\"1\" class=\"dataframe\">\n",
       "  <thead>\n",
       "    <tr style=\"text-align: right;\">\n",
       "      <th></th>\n",
       "      <th>Grades</th>\n",
       "    </tr>\n",
       "  </thead>\n",
       "  <tbody>\n",
       "    <tr>\n",
       "      <th>ok</th>\n",
       "      <td>C+</td>\n",
       "    </tr>\n",
       "    <tr>\n",
       "      <th>ok</th>\n",
       "      <td>C-</td>\n",
       "    </tr>\n",
       "    <tr>\n",
       "      <th>poor</th>\n",
       "      <td>D+</td>\n",
       "    </tr>\n",
       "    <tr>\n",
       "      <th>poor</th>\n",
       "      <td>D</td>\n",
       "    </tr>\n",
       "  </tbody>\n",
       "</table>\n",
       "</div>"
      ],
      "text/plain": [
       "     Grades\n",
       "ok       C+\n",
       "ok       C-\n",
       "poor     D+\n",
       "poor      D"
      ]
     },
     "execution_count": 5,
     "metadata": {},
     "output_type": "execute_result"
    }
   ],
   "source": [
    "# Now we see that pandas is not only aware that there are 11 categories, but it is also aware of the order of\n",
    "# those categoreies. So, what can you do with this? Well because there is an ordering this can help with\n",
    "# comparisons and boolean masking. For instance, if we have a list of our grades and we compare them to a “C”\n",
    "# we see that the lexicographical comparison returns results we were not intending. \n",
    "\n",
    "df[df[\"Grades\"]>\"C\"]"
   ]
  },
  {
   "cell_type": "code",
   "execution_count": 7,
   "metadata": {},
   "outputs": [
    {
     "data": {
      "text/plain": [
       "excellent    A+\n",
       "excellent     A\n",
       "excellent    A-\n",
       "good         B+\n",
       "good          B\n",
       "good         B-\n",
       "ok           C+\n",
       "Name: Grades, dtype: category\n",
       "Categories (11, object): [D < D+ < C- < C ... B+ < A- < A < A+]"
      ]
     },
     "execution_count": 7,
     "metadata": {},
     "output_type": "execute_result"
    }
   ],
   "source": [
    "#so a c+ is greater than a  C but a C- and a D+ certainly are not. However, if we broadcast over thedataframe that has the type set to an ordered categorical we will get the result we desired\n",
    "\n",
    "grades[grades > 'C']"
   ]
  },
  {
   "cell_type": "code",
   "execution_count": 8,
   "metadata": {},
   "outputs": [],
   "source": [
    "#we see that the operator worked as we could expect. We can then use a certain set of mathematical operators\n",
    "#like minimum, maximum, etc on the ordinal data"
   ]
  },
  {
   "cell_type": "code",
   "execution_count": 9,
   "metadata": {},
   "outputs": [],
   "source": [
    "#sometimes it is useful to represent categorical value as each being a column with a true or false as to whether the category applies\n",
    "#this is especially common in feature extraction which is a topic in the data mining course.\n",
    "#variables with a boolean values are typically called dummy variables, and pandas has a built in function called get dummies which will convert the values of a single column into multiple columns of zeros and ones.\n",
    "#indicating the presence of the dummy variale."
   ]
  },
  {
   "cell_type": "code",
   "execution_count": 10,
   "metadata": {},
   "outputs": [
    {
     "name": "stderr",
     "output_type": "stream",
     "text": [
      "C:\\Users\\tonny\\anaconda3\\lib\\site-packages\\numpy\\lib\\function_base.py:393: RuntimeWarning: Mean of empty slice.\n",
      "  avg = a.mean(axis)\n",
      "C:\\Users\\tonny\\anaconda3\\lib\\site-packages\\numpy\\core\\_methods.py:161: RuntimeWarning: invalid value encountered in double_scalars\n",
      "  ret = ret.dtype.type(ret / rcount)\n"
     ]
    },
    {
     "data": {
      "text/plain": [
       "STNAME\n",
       "Alabama        71339.343284\n",
       "Alaska         24490.724138\n",
       "Arizona       426134.466667\n",
       "Arkansas       38878.906667\n",
       "California    642309.586207\n",
       "Name: CENSUS2010POP, dtype: float64"
      ]
     },
     "execution_count": 10,
     "metadata": {},
     "output_type": "execute_result"
    }
   ],
   "source": [
    "# There’s one more common scale-based operation I’d like to talk about, and that’s on converting a scale from\n",
    "# something that is on the interval or ratio scale, like a numeric grade, into one which is categorical. Now,\n",
    "# this might seem a bit counter intuitive to you, since you are losing information about the value. But it’s\n",
    "# commonly done in a couple of places. For instance, if you are visualizing the frequencies of categories,\n",
    "# this can be an extremely useful approach, and histograms are regularly used with converted interval or ratio\n",
    "# data. In addition, if you’re using a machine learning classification approach on data, you need to be using\n",
    "# categorical data, so reducing dimensionality may be useful just to apply a given technique. Pandas has a\n",
    "# function called cut which takes as an argument some array-like structure like a column of a dataframe or a\n",
    "# series. It also takes a number of bins to be used, and all bins are kept at equal spacing.\n",
    " \n",
    "# Lets go back to our census data for an example. We saw that we could group by state, then aggregate to get a\n",
    "# list of the average county size by state. If we further apply cut to this with, say, ten bins, we can see\n",
    "# the states listed as categoricals using the average county size.\n",
    "\n",
    "# let's bring in numpy\n",
    "import numpy as np\n",
    "\n",
    "# Now we read in our dataset\n",
    "df=pd.read_csv(\"census.csv\")\n",
    "\n",
    "# And we reduce this to country data\n",
    "df=df[df['SUMLEV']==50]\n",
    "\n",
    "# And for a few groups\n",
    "df=df.set_index('STNAME').groupby(level=0)['CENSUS2010POP'].agg(np.average)\n",
    "\n",
    "df.head()"
   ]
  },
  {
   "cell_type": "code",
   "execution_count": 11,
   "metadata": {},
   "outputs": [
    {
     "data": {
      "text/plain": [
       "STNAME\n",
       "Alabama                   (11706.087, 75333.413]\n",
       "Alaska                    (11706.087, 75333.413]\n",
       "Arizona                 (390320.176, 453317.529]\n",
       "Arkansas                  (11706.087, 75333.413]\n",
       "California              (579312.234, 642309.586]\n",
       "Colorado                 (75333.413, 138330.766]\n",
       "Connecticut             (390320.176, 453317.529]\n",
       "Delaware                (264325.471, 327322.823]\n",
       "District of Columbia    (579312.234, 642309.586]\n",
       "Florida                 (264325.471, 327322.823]\n",
       "Georgia                   (11706.087, 75333.413]\n",
       "Hawaii                  (264325.471, 327322.823]\n",
       "Idaho                     (11706.087, 75333.413]\n",
       "Illinois                 (75333.413, 138330.766]\n",
       "Indiana                   (11706.087, 75333.413]\n",
       "Iowa                      (11706.087, 75333.413]\n",
       "Kansas                    (11706.087, 75333.413]\n",
       "Kentucky                  (11706.087, 75333.413]\n",
       "Louisiana                 (11706.087, 75333.413]\n",
       "Maine                    (75333.413, 138330.766]\n",
       "Maryland                (201328.118, 264325.471]\n",
       "Massachusetts           (453317.529, 516314.881]\n",
       "Michigan                 (75333.413, 138330.766]\n",
       "Minnesota                 (11706.087, 75333.413]\n",
       "Mississippi               (11706.087, 75333.413]\n",
       "Missouri                  (11706.087, 75333.413]\n",
       "Montana                   (11706.087, 75333.413]\n",
       "Nebraska                  (11706.087, 75333.413]\n",
       "Nevada                  (138330.766, 201328.118]\n",
       "New Hampshire            (75333.413, 138330.766]\n",
       "New Jersey              (390320.176, 453317.529]\n",
       "New Mexico                (11706.087, 75333.413]\n",
       "New York                (264325.471, 327322.823]\n",
       "North Carolina           (75333.413, 138330.766]\n",
       "North Dakota              (11706.087, 75333.413]\n",
       "Ohio                     (75333.413, 138330.766]\n",
       "Oklahoma                  (11706.087, 75333.413]\n",
       "Oregon                   (75333.413, 138330.766]\n",
       "Pennsylvania            (138330.766, 201328.118]\n",
       "Rhode Island            (201328.118, 264325.471]\n",
       "South Carolina           (75333.413, 138330.766]\n",
       "South Dakota              (11706.087, 75333.413]\n",
       "Tennessee                 (11706.087, 75333.413]\n",
       "Texas                    (75333.413, 138330.766]\n",
       "Utah                     (75333.413, 138330.766]\n",
       "Vermont                   (11706.087, 75333.413]\n",
       "Virginia                  (11706.087, 75333.413]\n",
       "Washington              (138330.766, 201328.118]\n",
       "West Virginia             (11706.087, 75333.413]\n",
       "Wisconsin                (75333.413, 138330.766]\n",
       "Wyoming                   (11706.087, 75333.413]\n",
       "Name: CENSUS2010POP, dtype: category\n",
       "Categories (10, interval[float64]): [(11706.087, 75333.413] < (75333.413, 138330.766] < (138330.766, 201328.118] < (201328.118, 264325.471] ... (390320.176, 453317.529] < (453317.529, 516314.881] < (516314.881, 579312.234] < (579312.234, 642309.586]]"
      ]
     },
     "execution_count": 11,
     "metadata": {},
     "output_type": "execute_result"
    }
   ],
   "source": [
    "#now if we want to make bins of each of these, we ca use cut()\n",
    "pd.cut(df,10)"
   ]
  },
  {
   "cell_type": "code",
   "execution_count": 12,
   "metadata": {},
   "outputs": [],
   "source": [
    "#here we see states like alabama and alaska fall into the same category, while california and the district of columbia fall in different categories\n",
    "\n",
    "#now, cutting is just one way to biuld categories from your data and there are many other methods.\n",
    "#for instance, cut gives you interval data, where the spacing between each category is equal sized. but sometimes you want to form categories based on frequency - you want the number of items in each bin\n",
    "#to be the same,instead of the spacing between bins. it really depends on what the shape of your data is and what you are planning to do with it\n"
   ]
  },
  {
   "cell_type": "code",
   "execution_count": 13,
   "metadata": {},
   "outputs": [],
   "source": [
    "#in simple terms cut divides the data into intervals that we want\n",
    "#in our example above we divided the data into 10 egual categories"
   ]
  }
 ],
 "metadata": {
  "kernelspec": {
   "display_name": "Python 3",
   "language": "python",
   "name": "python3"
  },
  "language_info": {
   "codemirror_mode": {
    "name": "ipython",
    "version": 3
   },
   "file_extension": ".py",
   "mimetype": "text/x-python",
   "name": "python",
   "nbconvert_exporter": "python",
   "pygments_lexer": "ipython3",
   "version": "3.7.6"
  }
 },
 "nbformat": 4,
 "nbformat_minor": 4
}
