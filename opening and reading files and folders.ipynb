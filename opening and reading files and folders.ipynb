{
 "cells": [
  {
   "cell_type": "markdown",
   "metadata": {},
   "source": [
    "# create a file "
   ]
  },
  {
   "cell_type": "code",
   "execution_count": 1,
   "metadata": {},
   "outputs": [
    {
     "data": {
      "text/plain": [
       "'C:\\\\Users\\\\tonny'"
      ]
     },
     "execution_count": 1,
     "metadata": {},
     "output_type": "execute_result"
    }
   ],
   "source": [
    "pwd"
   ]
  },
  {
   "cell_type": "code",
   "execution_count": 2,
   "metadata": {},
   "outputs": [],
   "source": [
    "f = open('practice.txt', 'w+')\n",
    "f.write('This is a test string')\n",
    "f.close()"
   ]
  },
  {
   "cell_type": "markdown",
   "metadata": {},
   "source": [
    "# how to get your directory\n"
   ]
  },
  {
   "cell_type": "code",
   "execution_count": 3,
   "metadata": {},
   "outputs": [],
   "source": [
    "import os"
   ]
  },
  {
   "cell_type": "code",
   "execution_count": 4,
   "metadata": {},
   "outputs": [
    {
     "data": {
      "text/plain": [
       "'C:\\\\Users\\\\tonny'"
      ]
     },
     "execution_count": 4,
     "metadata": {},
     "output_type": "execute_result"
    }
   ],
   "source": [
    "os.getcwd()"
   ]
  },
  {
   "cell_type": "code",
   "execution_count": 8,
   "metadata": {},
   "outputs": [
    {
     "data": {
      "text/plain": [
       "['.ipynb_checkpoints',\n",
       " '1.02. Multiple linear regression (1).csv',\n",
       " '1.02. Multiple linear regression.csv',\n",
       " '1.03. Dummies.csv',\n",
       " '1.04. Real-life example.csv',\n",
       " '15 Python Projects in Under 15 Minutes (Code Included).mp4',\n",
       " '2.01. Admittance.csv',\n",
       " '2.02. Binary predictors.csv',\n",
       " '2.03. Test dataset.csv',\n",
       " '3.01. Country clusters.csv',\n",
       " '3.12. Example.csv',\n",
       " '6 Python Exercise Problems for Beginners - from CodingBat (Python Tutorial #14).mp4',\n",
       " '630cda57-5c7f-4cbb-a1e2-a22548014c0a.jpg',\n",
       " '86ea6e51-aed6-4de3-a36b-071bef97c148.jpg',\n",
       " 'Absenteeism Exercise - Integration.ipynb',\n",
       " 'Absenteeism Exercise - Logistic Regression_prior to custom_scaler.ipynb',\n",
       " 'Absenteeism Exercise - Logistic Regression_prior_to_backward_elimination.ipynb',\n",
       " 'Absenteeism Exercise - Logistic Regression_with_comments.ipynb',\n",
       " 'absenteeism module.ipynb',\n",
       " 'Absenteeism_data.csv',\n",
       " 'absenteeism_module.py',\n",
       " 'Absenteeism_new_data.csv',\n",
       " 'Absenteeism_predictions.csv',\n",
       " 'Absenteeism_preprocessed.csv',\n",
       " 'Accuracy_with_comments.ipynb',\n",
       " 'Adams.Apples.2005.720p.Bluray.DTS.x264-GCJM.mkv',\n",
       " 'Anaconda3-2020.02-Windows-x86_64.exe',\n",
       " 'Audiobooks_data.csv',\n",
       " 'bb80a940-c498-4b69-96ea-1a9285af44c1.jpg',\n",
       " 'Better.Call.Saul.S03E07.HDTV.x264-SVA[eztv].mkv',\n",
       " 'Better.Call.Saul.S03E08.HDTV.x264-SVA[eztv].mkv',\n",
       " 'Better.Call.Saul.S04E09.HDTV.x264-SVA[ettv]',\n",
       " 'Bleeding Steel.2017.HC.HDRip.XviD.AC3-EVO.avi.mp4 - openload.MP4',\n",
       " 'clean-verbatim.pdf',\n",
       " 'CODES',\n",
       " 'Complete-Python-3-Bootcamp-master.zip',\n",
       " 'Compressed',\n",
       " 'Country clusters standardized.csv',\n",
       " 'CURRICULUM VITAE james (1) (2).docx',\n",
       " 'Dead.Fred.2019.HDRip.AC3.x264-CMRG[TGx]',\n",
       " 'deejaykalonje - Dj kalonje Official Rugby Mixx 2020 (1).m4a',\n",
       " 'deejaykalonje - Dj kalonje Official Rugby Mixx 2020.m4a',\n",
       " 'Deported (2020) [720p] [WEBRip] [YTS.MX]',\n",
       " 'desktop.ini',\n",
       " 'Django tutorial for beginners! Build a website in 11 mins. (runs locally).mp4',\n",
       " 'Documents',\n",
       " 'El Coyote (2019) [720p] [WEBRip] [YTS.MX]',\n",
       " \"ELON MUSK, JAY LENO AND THE 2021 CYBERTRUCK (FULL SEGMENT) - Jay Leno's Garage.mp4\",\n",
       " 'Example-bank-data.csv',\n",
       " 'fa7913b1-c549-46de-85d0-2b5e7a3bc671.jpg',\n",
       " 'Faculty Letter (1).docx',\n",
       " 'Faculty Letter.docx',\n",
       " 'Faculty Letter2 (1).docx',\n",
       " 'Faculty Letter2 (2).docx',\n",
       " 'Faculty Letter2 (3).docx',\n",
       " 'Faculty Letter2.docx',\n",
       " 'Fee Statement.pdf',\n",
       " 'full-verbatim.pdf',\n",
       " 'GAMES',\n",
       " 'GDP DATA.xls',\n",
       " 'Git-2.25.1-64-bit.exe',\n",
       " 'GitHubDesktopSetup.exe',\n",
       " 'Guns.Akimbo.2019.720p.WEBRip.800MB.x264-GalaxyRG[TGx]',\n",
       " 'Hunting down gangsters with Kenya’s Ahmed Rashid - Full Documentary - BBC Africa Eye.mp4',\n",
       " 'idman636build7.exe',\n",
       " 'IMG_0467.jpeg',\n",
       " 'IMG_0504.JPG',\n",
       " 'IMG_0506.JPG',\n",
       " 'IMG_0792.JPG',\n",
       " 'IMG_0793.JPG',\n",
       " 'IMG_0801.JPG',\n",
       " 'IMG_1301.JPG',\n",
       " 'IMG_1302.JPG',\n",
       " 'InDesign_Set-Up.exe',\n",
       " 'InDesign_Set-Up_0959580442.exe',\n",
       " 'Ip Man 4 The Finale 2019 1080p HC HDRip x264 1.8GB - MkvHub.Com.mkv',\n",
       " 'Jo.Koy.Live.From.Seattle.2017.1080p.NF.WEBRip.H264.AAC2.0-PRiNCE.mkv',\n",
       " 'Jumanji Welcome to the Jungle.2017.1080p.WEB-DL.6CH.MkvCage.mkv',\n",
       " 'Lamborghini Aventador vs NEW Tesla Model S Performance- DRAG RACE!.mp4',\n",
       " 'Microsoft.SkypeApp_kzf8qxf38zg5c!App',\n",
       " 'Minimal_example_Part_4_Complete.ipynb',\n",
       " 'model',\n",
       " 'multiple linear regression.csv',\n",
       " 'Music',\n",
       " 'Narco Soldiers (2019) [720p] [BluRay] [YTS.MX]',\n",
       " 'new movies',\n",
       " 'original (1).csv',\n",
       " 'original (1).pdf',\n",
       " 'original (1).xls',\n",
       " 'original (1).xlsx',\n",
       " 'original (10).xlsx',\n",
       " 'original (11).xlsx',\n",
       " 'original (12).xlsx',\n",
       " 'original (13).xlsx',\n",
       " 'original (14).xlsx',\n",
       " 'original (15).xlsx',\n",
       " 'original (16).xlsx',\n",
       " 'original (17).xlsx',\n",
       " 'original (18).xlsx',\n",
       " 'original (19).xlsx',\n",
       " 'original (2).csv',\n",
       " 'original (2).pdf',\n",
       " 'original (2).xls',\n",
       " 'original (2).xlsx',\n",
       " 'original (20).xlsx',\n",
       " 'original (21).xlsx',\n",
       " 'original (22).xlsx',\n",
       " 'original (23).xlsx',\n",
       " 'original (24).xlsx',\n",
       " 'original (25).xlsx',\n",
       " 'original (26).xlsx',\n",
       " 'original (27).xlsx',\n",
       " 'original (28).xlsx',\n",
       " 'original (29).xlsx',\n",
       " 'original (3).csv',\n",
       " 'original (3).pdf',\n",
       " 'original (3).xls',\n",
       " 'original (3).xlsx',\n",
       " 'original (30).xlsx',\n",
       " 'original (31).xlsx',\n",
       " 'original (32).xlsx',\n",
       " 'original (33).xlsx',\n",
       " 'original (34).xlsx',\n",
       " 'original (35).xlsx',\n",
       " 'original (36).xlsx',\n",
       " 'original (37).xlsx',\n",
       " 'original (38).xlsx',\n",
       " 'original (39).xlsx',\n",
       " 'original (4).xlsx',\n",
       " 'original (40).xlsx',\n",
       " 'original (41).xlsx',\n",
       " 'original (42).xlsx',\n",
       " 'original (43).xlsx',\n",
       " 'original (44).xlsx',\n",
       " 'original (45).xlsx',\n",
       " 'original (46).xlsx',\n",
       " 'original (5).xlsx',\n",
       " 'original (6).xlsx',\n",
       " 'original (7).xlsx',\n",
       " 'original (8).xlsx',\n",
       " 'original (9).xlsx',\n",
       " 'original.csv',\n",
       " 'original.pdf',\n",
       " 'original.xls',\n",
       " 'original.xlsx',\n",
       " 'PCRemoteReceiverSetup_7_1_0.zip',\n",
       " 'Programs',\n",
       " 'PyCharm Tutorial For Beginners - Debug Python Code Using PyCharm - Python Training - Edureka`.mp4',\n",
       " 'pycharm-community-2020.1.1.exe',\n",
       " 'Python for Data Science _ Data Science With Python _ Python Data Science Tutorial _ Intellipaat.mp4',\n",
       " 'Python Tutorial for Beginners - Full Course in 11 Hours [2020].mp4',\n",
       " 'real_estate_price_size (1).csv',\n",
       " 'real_estate_price_size.csv',\n",
       " 'resume (1).pdf',\n",
       " 'Rocket Hunter (2020) [1080p] [WEBRip] [YTS.LT]',\n",
       " 'rufus-3.8.exe',\n",
       " 'S35_L226.zip',\n",
       " 'S35_L230.zip',\n",
       " 'SAUTI SOL - INSECURE (OFFICIAL VIDEO) SMS [Skiza 9935652] to 811.mp3',\n",
       " 'scaler',\n",
       " 'Screenshot 2020-02-25 15.33.38.png',\n",
       " 'Screenshot 2020-02-25 15.36.33.png',\n",
       " 'Screenshot 2020-02-25 15.37.05.png',\n",
       " 'Screenshot 2020-03-11 13.30.28.png',\n",
       " 'Screenshot 2020-03-11 14.58.22.png',\n",
       " 'Sex Education S01 Complete 720p [Hin-Eng] WEB-DL Dual-Audio x264 - KatmovieHD.nl',\n",
       " 'Spider-Man.Far.from.Home.2019.1080p.BluRay.x264.AC3-MkvCage.mkv',\n",
       " 'SpiderMan.Far.From.Home.2019.720p.HDCAM.V2.NEW-SOURCE.900MB.1xbet.x264-BONSAI[TGx]',\n",
       " 'Sublime Text Build 3211 x64 Setup.exe',\n",
       " 'TableauPublicDesktop-64bit-2020-2-1.exe',\n",
       " 'TensorFlow_MNIST_Part3_with_comments.ipynb',\n",
       " 'tesla sales.xlsx',\n",
       " 'The 5 files rar (1).zip',\n",
       " 'The 5 files rar.zip',\n",
       " 'The Big Bang Theory Season 12',\n",
       " 'The Data Science Course 2020 - All Resources.zip',\n",
       " 'The Lion King (2019) [BluRay] [1080p] [YTS.LT]',\n",
       " 'The Super Cops 1974 DVDRiP XVID[SN]',\n",
       " 'the wire',\n",
       " 'The.Grudge.2020.720p.HDTS.900MB.getb8.x264-BONSAI[TGx]',\n",
       " 'Tonny Resume.docx',\n",
       " 'Toyota Land Cruiser, Audi Q7 & VW Touareg vs Land Rover- TUG OF WAR!.mp4',\n",
       " 'twilio-twilio-python-6.35.5-0-g5b17b13.zip',\n",
       " 'ultimate sales copy cert.pdf',\n",
       " 'Unconfirmed 576602.crdownload',\n",
       " 'Vacancies_in_Public_Service_May_2020 (1).pdf',\n",
       " 'Vacancies_in_Public_Service_May_2020.pdf',\n",
       " 'Video',\n",
       " 'videoplayback (1).mp4',\n",
       " 'videoplayback (2).mp4',\n",
       " 'videoplayback (3).mp4',\n",
       " 'videoplayback (4).mp4',\n",
       " 'videoplayback.mp4',\n",
       " 'VirtualDJ',\n",
       " 'VOLUME 1 KPHC 2019.pdf',\n",
       " 'VOLUME II KPHC 2019.pdf',\n",
       " 'VOLUME III KPHC 2019.pdf',\n",
       " 'VOLUME IV KPHC 2019.pdf',\n",
       " 'While At War (2019) [720p] [BluRay] [YTS.MX]',\n",
       " 'www.Movcr.to. -Ready or Not (2019) DVDRip x264 AAC 700MB ESub [MOVCR].mkv',\n",
       " 'www.torrenting.com  - Scary.Stories.to.Tell.in.the.Dark.2019.HDRip.AC3.x264-CMRG',\n",
       " 'y2mate.com - python_tutorial_csv_module_how_to_read_parse_and_write_csv_files_q5uM4VKywbA_1080p.mp4',\n",
       " '_igetintopc.com_Adobe_InDesign_CC_2019_x64.zip',\n",
       " '__pycache__']"
      ]
     },
     "execution_count": 8,
     "metadata": {},
     "output_type": "execute_result"
    }
   ],
   "source": [
    "os.listdir('c:\\\\users\\\\tonny\\\\Downloads')"
   ]
  },
  {
   "cell_type": "markdown",
   "metadata": {},
   "source": [
    "# moving files"
   ]
  },
  {
   "cell_type": "code",
   "execution_count": 9,
   "metadata": {},
   "outputs": [],
   "source": [
    "import shutil"
   ]
  },
  {
   "cell_type": "code",
   "execution_count": 10,
   "metadata": {},
   "outputs": [
    {
     "data": {
      "text/plain": [
       "'c:\\\\users\\\\tonny\\\\Downloads\\\\practice.txt'"
      ]
     },
     "execution_count": 10,
     "metadata": {},
     "output_type": "execute_result"
    }
   ],
   "source": [
    "shutil.move('practice.txt', 'c:\\\\users\\\\tonny\\\\Downloads')"
   ]
  },
  {
   "cell_type": "code",
   "execution_count": null,
   "metadata": {},
   "outputs": [],
   "source": []
  },
  {
   "cell_type": "code",
   "execution_count": null,
   "metadata": {},
   "outputs": [],
   "source": []
  },
  {
   "cell_type": "code",
   "execution_count": null,
   "metadata": {},
   "outputs": [],
   "source": []
  },
  {
   "cell_type": "code",
   "execution_count": null,
   "metadata": {},
   "outputs": [],
   "source": []
  },
  {
   "cell_type": "code",
   "execution_count": null,
   "metadata": {},
   "outputs": [],
   "source": []
  },
  {
   "cell_type": "code",
   "execution_count": null,
   "metadata": {},
   "outputs": [],
   "source": []
  },
  {
   "cell_type": "code",
   "execution_count": null,
   "metadata": {},
   "outputs": [],
   "source": []
  },
  {
   "cell_type": "code",
   "execution_count": null,
   "metadata": {},
   "outputs": [],
   "source": []
  },
  {
   "cell_type": "code",
   "execution_count": null,
   "metadata": {},
   "outputs": [],
   "source": []
  },
  {
   "cell_type": "code",
   "execution_count": null,
   "metadata": {},
   "outputs": [],
   "source": []
  },
  {
   "cell_type": "code",
   "execution_count": null,
   "metadata": {},
   "outputs": [],
   "source": []
  },
  {
   "cell_type": "code",
   "execution_count": null,
   "metadata": {},
   "outputs": [],
   "source": []
  },
  {
   "cell_type": "code",
   "execution_count": null,
   "metadata": {},
   "outputs": [],
   "source": []
  },
  {
   "cell_type": "code",
   "execution_count": null,
   "metadata": {},
   "outputs": [],
   "source": []
  },
  {
   "cell_type": "code",
   "execution_count": null,
   "metadata": {},
   "outputs": [],
   "source": []
  },
  {
   "cell_type": "code",
   "execution_count": null,
   "metadata": {},
   "outputs": [],
   "source": []
  },
  {
   "cell_type": "code",
   "execution_count": null,
   "metadata": {},
   "outputs": [],
   "source": []
  },
  {
   "cell_type": "code",
   "execution_count": null,
   "metadata": {},
   "outputs": [],
   "source": []
  },
  {
   "cell_type": "code",
   "execution_count": null,
   "metadata": {},
   "outputs": [],
   "source": []
  },
  {
   "cell_type": "code",
   "execution_count": null,
   "metadata": {},
   "outputs": [],
   "source": []
  },
  {
   "cell_type": "code",
   "execution_count": null,
   "metadata": {},
   "outputs": [],
   "source": []
  },
  {
   "cell_type": "code",
   "execution_count": null,
   "metadata": {},
   "outputs": [],
   "source": []
  },
  {
   "cell_type": "code",
   "execution_count": null,
   "metadata": {},
   "outputs": [],
   "source": []
  },
  {
   "cell_type": "code",
   "execution_count": null,
   "metadata": {},
   "outputs": [],
   "source": []
  },
  {
   "cell_type": "code",
   "execution_count": null,
   "metadata": {},
   "outputs": [],
   "source": []
  },
  {
   "cell_type": "code",
   "execution_count": null,
   "metadata": {},
   "outputs": [],
   "source": []
  },
  {
   "cell_type": "code",
   "execution_count": null,
   "metadata": {},
   "outputs": [],
   "source": []
  },
  {
   "cell_type": "code",
   "execution_count": null,
   "metadata": {},
   "outputs": [],
   "source": []
  },
  {
   "cell_type": "code",
   "execution_count": null,
   "metadata": {},
   "outputs": [],
   "source": []
  },
  {
   "cell_type": "code",
   "execution_count": null,
   "metadata": {},
   "outputs": [],
   "source": []
  },
  {
   "cell_type": "code",
   "execution_count": null,
   "metadata": {},
   "outputs": [],
   "source": []
  },
  {
   "cell_type": "code",
   "execution_count": null,
   "metadata": {},
   "outputs": [],
   "source": []
  },
  {
   "cell_type": "code",
   "execution_count": null,
   "metadata": {},
   "outputs": [],
   "source": []
  },
  {
   "cell_type": "code",
   "execution_count": null,
   "metadata": {},
   "outputs": [],
   "source": []
  },
  {
   "cell_type": "code",
   "execution_count": null,
   "metadata": {},
   "outputs": [],
   "source": []
  },
  {
   "cell_type": "code",
   "execution_count": null,
   "metadata": {},
   "outputs": [],
   "source": []
  },
  {
   "cell_type": "code",
   "execution_count": null,
   "metadata": {},
   "outputs": [],
   "source": []
  },
  {
   "cell_type": "code",
   "execution_count": null,
   "metadata": {},
   "outputs": [],
   "source": []
  },
  {
   "cell_type": "code",
   "execution_count": null,
   "metadata": {},
   "outputs": [],
   "source": []
  },
  {
   "cell_type": "code",
   "execution_count": null,
   "metadata": {},
   "outputs": [],
   "source": [
    "\n"
   ]
  }
 ],
 "metadata": {
  "kernelspec": {
   "display_name": "Python 3",
   "language": "python",
   "name": "python3"
  },
  "language_info": {
   "codemirror_mode": {
    "name": "ipython",
    "version": 3
   },
   "file_extension": ".py",
   "mimetype": "text/x-python",
   "name": "python",
   "nbconvert_exporter": "python",
   "pygments_lexer": "ipython3",
   "version": "3.7.6"
  }
 },
 "nbformat": 4,
 "nbformat_minor": 4
}
