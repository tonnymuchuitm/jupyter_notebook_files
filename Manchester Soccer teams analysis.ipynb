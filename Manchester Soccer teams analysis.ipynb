{
 "cells": [
  {
   "cell_type": "markdown",
   "metadata": {},
   "source": [
    "## Read wiki tables"
   ]
  },
  {
   "cell_type": "code",
   "execution_count": 2,
   "metadata": {},
   "outputs": [],
   "source": [
    "import pandas as pd\n",
    "import numpy as np\n",
    "import matplotlib.pyplot as plt\n",
    "import seaborn as sns\n",
    "import scipy.stats as stats\n",
    "from pandas.io.html import read_html\n",
    "sns.set()"
   ]
  },
  {
   "cell_type": "code",
   "execution_count": 3,
   "metadata": {},
   "outputs": [
    {
     "name": "stdout",
     "output_type": "stream",
     "text": [
      "extracted 8 wikitables\n"
     ]
    }
   ],
   "source": [
    "page = \"https://en.wikipedia.org/wiki/2015%E2%80%9316_Premier_League\"\n",
    "wikitables = read_html(page, attrs={'class':'wikitable'})\n",
    "num = len(wikitables)\n",
    "print(f'extracted {num} wikitables')"
   ]
  },
  {
   "cell_type": "code",
   "execution_count": 4,
   "metadata": {},
   "outputs": [
    {
     "data": {
      "text/html": [
       "<div>\n",
       "<style scoped>\n",
       "    .dataframe tbody tr th:only-of-type {\n",
       "        vertical-align: middle;\n",
       "    }\n",
       "\n",
       "    .dataframe tbody tr th {\n",
       "        vertical-align: top;\n",
       "    }\n",
       "\n",
       "    .dataframe thead th {\n",
       "        text-align: right;\n",
       "    }\n",
       "</style>\n",
       "<table border=\"1\" class=\"dataframe\">\n",
       "  <thead>\n",
       "    <tr style=\"text-align: right;\">\n",
       "      <th></th>\n",
       "      <th>Team</th>\n",
       "      <th>Pld</th>\n",
       "      <th>W</th>\n",
       "      <th>D</th>\n",
       "      <th>L</th>\n",
       "      <th>GF</th>\n",
       "      <th>GA</th>\n",
       "      <th>GD</th>\n",
       "      <th>Pts</th>\n",
       "    </tr>\n",
       "    <tr>\n",
       "      <th>Pos</th>\n",
       "      <th></th>\n",
       "      <th></th>\n",
       "      <th></th>\n",
       "      <th></th>\n",
       "      <th></th>\n",
       "      <th></th>\n",
       "      <th></th>\n",
       "      <th></th>\n",
       "      <th></th>\n",
       "    </tr>\n",
       "  </thead>\n",
       "  <tbody>\n",
       "    <tr>\n",
       "      <th>1</th>\n",
       "      <td>Leicester City (C)</td>\n",
       "      <td>38</td>\n",
       "      <td>23</td>\n",
       "      <td>12</td>\n",
       "      <td>3</td>\n",
       "      <td>68</td>\n",
       "      <td>36</td>\n",
       "      <td>+32</td>\n",
       "      <td>81</td>\n",
       "    </tr>\n",
       "    <tr>\n",
       "      <th>2</th>\n",
       "      <td>Arsenal</td>\n",
       "      <td>38</td>\n",
       "      <td>20</td>\n",
       "      <td>11</td>\n",
       "      <td>7</td>\n",
       "      <td>65</td>\n",
       "      <td>36</td>\n",
       "      <td>+29</td>\n",
       "      <td>71</td>\n",
       "    </tr>\n",
       "    <tr>\n",
       "      <th>3</th>\n",
       "      <td>Tottenham Hotspur</td>\n",
       "      <td>38</td>\n",
       "      <td>19</td>\n",
       "      <td>13</td>\n",
       "      <td>6</td>\n",
       "      <td>69</td>\n",
       "      <td>35</td>\n",
       "      <td>+34</td>\n",
       "      <td>70</td>\n",
       "    </tr>\n",
       "    <tr>\n",
       "      <th>4</th>\n",
       "      <td>Manchester City</td>\n",
       "      <td>38</td>\n",
       "      <td>19</td>\n",
       "      <td>9</td>\n",
       "      <td>10</td>\n",
       "      <td>71</td>\n",
       "      <td>41</td>\n",
       "      <td>+30</td>\n",
       "      <td>66</td>\n",
       "    </tr>\n",
       "    <tr>\n",
       "      <th>5</th>\n",
       "      <td>Manchester United</td>\n",
       "      <td>38</td>\n",
       "      <td>19</td>\n",
       "      <td>9</td>\n",
       "      <td>10</td>\n",
       "      <td>49</td>\n",
       "      <td>35</td>\n",
       "      <td>+14</td>\n",
       "      <td>66</td>\n",
       "    </tr>\n",
       "    <tr>\n",
       "      <th>6</th>\n",
       "      <td>Southampton</td>\n",
       "      <td>38</td>\n",
       "      <td>18</td>\n",
       "      <td>9</td>\n",
       "      <td>11</td>\n",
       "      <td>59</td>\n",
       "      <td>41</td>\n",
       "      <td>+18</td>\n",
       "      <td>63</td>\n",
       "    </tr>\n",
       "    <tr>\n",
       "      <th>7</th>\n",
       "      <td>West Ham United</td>\n",
       "      <td>38</td>\n",
       "      <td>16</td>\n",
       "      <td>14</td>\n",
       "      <td>8</td>\n",
       "      <td>65</td>\n",
       "      <td>51</td>\n",
       "      <td>+14</td>\n",
       "      <td>62</td>\n",
       "    </tr>\n",
       "    <tr>\n",
       "      <th>8</th>\n",
       "      <td>Liverpool</td>\n",
       "      <td>38</td>\n",
       "      <td>16</td>\n",
       "      <td>12</td>\n",
       "      <td>10</td>\n",
       "      <td>63</td>\n",
       "      <td>50</td>\n",
       "      <td>+13</td>\n",
       "      <td>60</td>\n",
       "    </tr>\n",
       "    <tr>\n",
       "      <th>9</th>\n",
       "      <td>Stoke City</td>\n",
       "      <td>38</td>\n",
       "      <td>14</td>\n",
       "      <td>9</td>\n",
       "      <td>15</td>\n",
       "      <td>41</td>\n",
       "      <td>55</td>\n",
       "      <td>−14</td>\n",
       "      <td>51</td>\n",
       "    </tr>\n",
       "    <tr>\n",
       "      <th>10</th>\n",
       "      <td>Chelsea</td>\n",
       "      <td>38</td>\n",
       "      <td>12</td>\n",
       "      <td>14</td>\n",
       "      <td>12</td>\n",
       "      <td>59</td>\n",
       "      <td>53</td>\n",
       "      <td>+6</td>\n",
       "      <td>50</td>\n",
       "    </tr>\n",
       "    <tr>\n",
       "      <th>11</th>\n",
       "      <td>Everton</td>\n",
       "      <td>38</td>\n",
       "      <td>11</td>\n",
       "      <td>14</td>\n",
       "      <td>13</td>\n",
       "      <td>59</td>\n",
       "      <td>55</td>\n",
       "      <td>+4</td>\n",
       "      <td>47</td>\n",
       "    </tr>\n",
       "    <tr>\n",
       "      <th>12</th>\n",
       "      <td>Swansea City</td>\n",
       "      <td>38</td>\n",
       "      <td>12</td>\n",
       "      <td>11</td>\n",
       "      <td>15</td>\n",
       "      <td>42</td>\n",
       "      <td>52</td>\n",
       "      <td>−10</td>\n",
       "      <td>47</td>\n",
       "    </tr>\n",
       "    <tr>\n",
       "      <th>13</th>\n",
       "      <td>Watford</td>\n",
       "      <td>38</td>\n",
       "      <td>12</td>\n",
       "      <td>9</td>\n",
       "      <td>17</td>\n",
       "      <td>40</td>\n",
       "      <td>50</td>\n",
       "      <td>−10</td>\n",
       "      <td>45</td>\n",
       "    </tr>\n",
       "    <tr>\n",
       "      <th>14</th>\n",
       "      <td>West Bromwich Albion</td>\n",
       "      <td>38</td>\n",
       "      <td>10</td>\n",
       "      <td>13</td>\n",
       "      <td>15</td>\n",
       "      <td>34</td>\n",
       "      <td>48</td>\n",
       "      <td>−14</td>\n",
       "      <td>43</td>\n",
       "    </tr>\n",
       "    <tr>\n",
       "      <th>15</th>\n",
       "      <td>Crystal Palace</td>\n",
       "      <td>38</td>\n",
       "      <td>11</td>\n",
       "      <td>9</td>\n",
       "      <td>18</td>\n",
       "      <td>39</td>\n",
       "      <td>51</td>\n",
       "      <td>−12</td>\n",
       "      <td>42</td>\n",
       "    </tr>\n",
       "    <tr>\n",
       "      <th>16</th>\n",
       "      <td>Bournemouth</td>\n",
       "      <td>38</td>\n",
       "      <td>11</td>\n",
       "      <td>9</td>\n",
       "      <td>18</td>\n",
       "      <td>45</td>\n",
       "      <td>67</td>\n",
       "      <td>−22</td>\n",
       "      <td>42</td>\n",
       "    </tr>\n",
       "    <tr>\n",
       "      <th>17</th>\n",
       "      <td>Sunderland</td>\n",
       "      <td>38</td>\n",
       "      <td>9</td>\n",
       "      <td>12</td>\n",
       "      <td>17</td>\n",
       "      <td>48</td>\n",
       "      <td>62</td>\n",
       "      <td>−14</td>\n",
       "      <td>39</td>\n",
       "    </tr>\n",
       "    <tr>\n",
       "      <th>18</th>\n",
       "      <td>Newcastle United (R)</td>\n",
       "      <td>38</td>\n",
       "      <td>9</td>\n",
       "      <td>10</td>\n",
       "      <td>19</td>\n",
       "      <td>44</td>\n",
       "      <td>65</td>\n",
       "      <td>−21</td>\n",
       "      <td>37</td>\n",
       "    </tr>\n",
       "    <tr>\n",
       "      <th>19</th>\n",
       "      <td>Norwich City (R)</td>\n",
       "      <td>38</td>\n",
       "      <td>9</td>\n",
       "      <td>7</td>\n",
       "      <td>22</td>\n",
       "      <td>39</td>\n",
       "      <td>67</td>\n",
       "      <td>−28</td>\n",
       "      <td>34</td>\n",
       "    </tr>\n",
       "    <tr>\n",
       "      <th>20</th>\n",
       "      <td>Aston Villa (R)</td>\n",
       "      <td>38</td>\n",
       "      <td>3</td>\n",
       "      <td>8</td>\n",
       "      <td>27</td>\n",
       "      <td>27</td>\n",
       "      <td>76</td>\n",
       "      <td>−49</td>\n",
       "      <td>17</td>\n",
       "    </tr>\n",
       "  </tbody>\n",
       "</table>\n",
       "</div>"
      ],
      "text/plain": [
       "                     Team  Pld   W   D   L  GF  GA   GD  Pts\n",
       "Pos                                                         \n",
       "1      Leicester City (C)   38  23  12   3  68  36  +32   81\n",
       "2                 Arsenal   38  20  11   7  65  36  +29   71\n",
       "3       Tottenham Hotspur   38  19  13   6  69  35  +34   70\n",
       "4         Manchester City   38  19   9  10  71  41  +30   66\n",
       "5       Manchester United   38  19   9  10  49  35  +14   66\n",
       "6             Southampton   38  18   9  11  59  41  +18   63\n",
       "7         West Ham United   38  16  14   8  65  51  +14   62\n",
       "8               Liverpool   38  16  12  10  63  50  +13   60\n",
       "9              Stoke City   38  14   9  15  41  55  −14   51\n",
       "10                Chelsea   38  12  14  12  59  53   +6   50\n",
       "11                Everton   38  11  14  13  59  55   +4   47\n",
       "12           Swansea City   38  12  11  15  42  52  −10   47\n",
       "13                Watford   38  12   9  17  40  50  −10   45\n",
       "14   West Bromwich Albion   38  10  13  15  34  48  −14   43\n",
       "15         Crystal Palace   38  11   9  18  39  51  −12   42\n",
       "16            Bournemouth   38  11   9  18  45  67  −22   42\n",
       "17             Sunderland   38   9  12  17  48  62  −14   39\n",
       "18   Newcastle United (R)   38   9  10  19  44  65  −21   37\n",
       "19       Norwich City (R)   38   9   7  22  39  67  −28   34\n",
       "20        Aston Villa (R)   38   3   8  27  27  76  −49   17"
      ]
     },
     "execution_count": 4,
     "metadata": {},
     "output_type": "execute_result"
    }
   ],
   "source": [
    "df = wikitables[0]\n",
    "df = df.drop('Qualification or relegation', axis = 1)\n",
    "df_2016 = df.set_index('Pos')\n",
    "#df_2016=df.drop([1,2,3,4,6,7,8,9,10,11,12,13,14,15,16,17,18,19,20], axis=0)\n",
    "df_2016"
   ]
  },
  {
   "cell_type": "code",
   "execution_count": 5,
   "metadata": {},
   "outputs": [
    {
     "data": {
      "text/plain": [
       "[19, 20]"
      ]
     },
     "execution_count": 5,
     "metadata": {},
     "output_type": "execute_result"
    }
   ],
   "source": [
    "winning_team = [df_2016['W'][1]]\n",
    "manchester_united = [df_2016['W'][5]]\n",
    "manchester_city = [df_2016['W'][4]]\n",
    "manchester_city.append(df_2016['W'][2])\n",
    "manchester_city"
   ]
  },
  {
   "cell_type": "code",
   "execution_count": 18,
   "metadata": {},
   "outputs": [
    {
     "name": "stdout",
     "output_type": "stream",
     "text": [
      "extracted 5 wikitables\n"
     ]
    },
    {
     "data": {
      "text/plain": [
       "[19, 20, 19.0]"
      ]
     },
     "execution_count": 18,
     "metadata": {},
     "output_type": "execute_result"
    }
   ],
   "source": [
    "page = \"https://en.wikipedia.org/wiki/2010%E2%80%9311_Premier_League\"\n",
    "wikitables = read_html(page, attrs={'class':'wikitable'})\n",
    "num = len(wikitables)\n",
    "print(f'extracted {num} wikitables')\n",
    "df_2011 = wikitables[1]\n",
    "df_2011 = df_2011.drop('Qualification or relegation', axis=1)\n",
    "df_2011 = df_2011.set_index('Pos').dropna()\n",
    "df_2011\n",
    "manchester_united.append(df_2011['W'][1])\n",
    "manchester_city.append(df_2011['W'][3])\n",
    "manchester_city"
   ]
  },
  {
   "cell_type": "code",
   "execution_count": null,
   "metadata": {},
   "outputs": [],
   "source": []
  },
  {
   "cell_type": "code",
   "execution_count": 21,
   "metadata": {},
   "outputs": [
    {
     "data": {
      "text/plain": [
       "<matplotlib.legend.Legend at 0x21328bb5a90>"
      ]
     },
     "execution_count": 21,
     "metadata": {},
     "output_type": "execute_result"
    },
    {
     "data": {
      "image/png": "[encoded data removed]",
      "text/plain": [
       "<Figure size 432x288 with 1 Axes>"
      ]
     },
     "metadata": {},
     "output_type": "display_data"
    }
   ],
   "source": [
    "linear_data = [0,1,2,3,4,5,6,7,8,9]\n",
    "linear_datta = [0.3,1.3,2.3,3.3,4.3,5.3,6.3,7.3,8.3,9.3]\n",
    "r = [0,1.15,2.15,3.15,4.15,5.15,6.15,7.15,8.15,9.15]\n",
    "exp = [28,19,19,20,18,25,19,18,26,28]\n",
    "ert = [20,19,27,24,23,32,32,26,24,25]\n",
    "win = [28,27,26,23,30,32,32,32,34,30]\n",
    "average = [28,(win[0]+win[1])/2,(win[0]+win[1]+win[2])/3,(win[0]+win[1]+win[2]+win[3])/4,(win[0]+win[1]+win[2]+win[3]+win[4])/5,(win[0]+win[1]+win[2]+win[3]+win[4]+win[5])/6,(win[0]+win[1]+win[2]+win[3]+win[4]+win[5]+win[6])/7,(win[0]+win[1]+win[2]+win[3]+win[4]+win[5]+win[6]+win[7])/8]\n",
    "plt.bar(linear_data, exp, width =0.3, color = 'darkred', label = 'Manchester United')\n",
    "plt.bar(linear_datta, ert,width = 0.3, color = 'darkblue', label = \"Manchester city\")\n",
    "plt.ylim(0,39)\n",
    "plt.xlim(-0.2,10)\n",
    "plt.xlabel('Season played')\n",
    "plt.ylabel('Games won in a season')\n",
    "plt.title('manchester clubs games won \\n per season \\n 2010-2020')\n",
    "plt.plot(r,win, color='green')\n",
    "#plt.text(7.7,27,'winning \\n team', color = 'green')\n",
    "plt.text(-.17,28.5, '28', color='red', fontsize=8)\n",
    "plt.text(0.18,20.5, '20', color='blue', fontsize=8)\n",
    "plt.text(0.85,19.5, '19', color='red', fontsize=8)\n",
    "plt.text(1.15,19.5, '19', color='blue', fontsize=8)\n",
    "plt.text(1.85,19.5, '19', color='red', fontsize=8)\n",
    "plt.text(2.15,27.5, '27', color='blue', fontsize=8)\n",
    "plt.text(2.85,20.5, '20', color='red', fontsize=8)\n",
    "plt.text(3.15,24.5, '24', color='blue', fontsize=8)\n",
    "plt.text(3.85,18.5, '18', color='red', fontsize=8)\n",
    "plt.text(4.14,23.5, '23', color='blue', fontsize=8)\n",
    "plt.text(4.85,25.5, '25', color='red', fontsize=8)\n",
    "plt.text(5.15,32.5, '32', color='blue', fontsize=8)\n",
    "plt.text(5.85,19.5, '19', color='red', fontsize=8)\n",
    "plt.text(6.15,32.5, '32', color='blue', fontsize=8)\n",
    "plt.xticks([0.15,1.15,2.15,3.15,4.15,5.15,6.15,7.15,8.15,9.15],['2010-11','2011-12','2012-13','2013-14','2014-15','2015-16','2016-17','2017-18','2018-19','2019-20'], rotation = 60)\n",
    "plt.legend(loc=2, fontsize = 10)\n",
    "#plt.text(4.8, 5.4, '24',)"
   ]
  },
  {
   "cell_type": "code",
   "execution_count": 9,
   "metadata": {},
   "outputs": [
    {
     "data": {
      "text/plain": [
       "(0.0, 38.0)"
      ]
     },
     "execution_count": 9,
     "metadata": {},
     "output_type": "execute_result"
    },
    {
     "data": {
      "image/png": "[encoded data removed]",
      "text/plain": [
       "<Figure size 432x288 with 1 Axes>"
      ]
     },
     "metadata": {},
     "output_type": "display_data"
    }
   ],
   "source": [
    "plt.plot(linear_data, exp, color = 'darkred', label = 'Manchester United')\n",
    "plt.plot(linear_datta, ert, color = 'darkblue', label = \"Manchester city\")\n",
    "plt.xlim(0,8)\n",
    "plt.ylim(0,38)"
   ]
  },
  {
   "cell_type": "code",
   "execution_count": null,
   "metadata": {},
   "outputs": [],
   "source": []
  }
 ],
 "metadata": {
  "kernelspec": {
   "display_name": "Python 3",
   "language": "python",
   "name": "python3"
  },
  "language_info": {
   "codemirror_mode": {
    "name": "ipython",
    "version": 3
   },
   "file_extension": ".py",
   "mimetype": "text/x-python",
   "name": "python",
   "nbconvert_exporter": "python",
   "pygments_lexer": "ipython3",
   "version": "3.8.5"
  }
 },
 "nbformat": 4,
 "nbformat_minor": 4
}
