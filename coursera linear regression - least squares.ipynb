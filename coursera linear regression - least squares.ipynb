{
 "cells": [
  {
   "cell_type": "markdown",
   "metadata": {},
   "source": [
    "### linear models\n"
   ]
  },
  {
   "cell_type": "markdown",
   "metadata": {},
   "source": [
    "-A linear model i a sum of weighted variables that predicts a target otput value given an input intance.\n",
    "-- Example:\n",
    "predicting the price of a house.\n",
    "- i.e our house features are taxes per year(Tax) and age in years(Age)\n",
    "                   **Price = 212000 + 109(Tax) - 2000(Age)**\n",
    " - a house with feature values (Tax, Age) of (10000, 75) would have a predited sale of:\n",
    "                   **Price = 212000 + 109(10000) - 2000(75) = 1,152,000**\n",
    "                   \n",
    "                 "
   ]
  },
  {
   "cell_type": "markdown",
   "metadata": {},
   "source": [
    "## Least-squares Linear Regresion"
   ]
  },
  {
   "cell_type": "markdown",
   "metadata": {},
   "source": [
    "- sometimes reffered to as ordinary least-squares\n",
    "- Least squares linear regression finds the line thru this cloud of points that minimizes what is called the means squared error of the model. \n",
    "- The mean squared error of the model is essentially the sum of the sqyared differences between the predicted value and the actual target value for all the points in the training set.\n",
    "- one thing to note about this linear model is that there are no parameters to control the model complexity.\n",
    "- no matter what the value of w and b, the result is always going to be a straight line. This is both a strength and a weakness of the model as we'll see later. "
   ]
  },
  {
   "cell_type": "markdown",
   "metadata": {},
   "source": [
    "## Estimating parameters W and B"
   ]
  },
  {
   "cell_type": "markdown",
   "metadata": {},
   "source": [
    "- parameters are estimated from training data.\n",
    "- there are many different ways to estimate w and b:\n",
    "    - different methods correspond to different 'fit' criteria and goals and ways to control model complexity\n",
    "- The learning algorithm finds the parameter that optimizes an **objective function**, typically minimizes some kind of **loss function** of the predicted target values vs actual target values."
   ]
  }
 ],
 "metadata": {
  "kernelspec": {
   "display_name": "Python 3",
   "language": "python",
   "name": "python3"
  },
  "language_info": {
   "codemirror_mode": {
    "name": "ipython",
    "version": 3
   },
   "file_extension": ".py",
   "mimetype": "text/x-python",
   "name": "python",
   "nbconvert_exporter": "python",
   "pygments_lexer": "ipython3",
   "version": "3.8.5"
  }
 },
 "nbformat": 4,
 "nbformat_minor": 4
}
